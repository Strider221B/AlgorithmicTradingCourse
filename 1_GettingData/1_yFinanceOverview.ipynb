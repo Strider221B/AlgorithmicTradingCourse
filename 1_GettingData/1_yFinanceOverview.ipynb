{
 "cells": [
  {
   "cell_type": "code",
   "execution_count": 1,
   "metadata": {},
   "outputs": [],
   "source": [
    "import yfinance as yf"
   ]
  },
  {
   "cell_type": "code",
   "execution_count": 2,
   "metadata": {},
   "outputs": [
    {
     "name": "stdout",
     "output_type": "stream",
     "text": [
      "[*********************100%***********************]  1 of 1 completed\n"
     ]
    }
   ],
   "source": [
    "data = yf.download('MSFT', period='6mo')"
   ]
  },
  {
   "cell_type": "code",
   "execution_count": 3,
   "metadata": {},
   "outputs": [
    {
     "data": {
      "text/html": [
       "<div>\n",
       "<style scoped>\n",
       "    .dataframe tbody tr th:only-of-type {\n",
       "        vertical-align: middle;\n",
       "    }\n",
       "\n",
       "    .dataframe tbody tr th {\n",
       "        vertical-align: top;\n",
       "    }\n",
       "\n",
       "    .dataframe thead th {\n",
       "        text-align: right;\n",
       "    }\n",
       "</style>\n",
       "<table border=\"1\" class=\"dataframe\">\n",
       "  <thead>\n",
       "    <tr style=\"text-align: right;\">\n",
       "      <th></th>\n",
       "      <th>Open</th>\n",
       "      <th>High</th>\n",
       "      <th>Low</th>\n",
       "      <th>Close</th>\n",
       "      <th>Adj Close</th>\n",
       "      <th>Volume</th>\n",
       "    </tr>\n",
       "    <tr>\n",
       "      <th>Date</th>\n",
       "      <th></th>\n",
       "      <th></th>\n",
       "      <th></th>\n",
       "      <th></th>\n",
       "      <th></th>\n",
       "      <th></th>\n",
       "    </tr>\n",
       "  </thead>\n",
       "  <tbody>\n",
       "    <tr>\n",
       "      <th>2020-09-08</th>\n",
       "      <td>206.500000</td>\n",
       "      <td>210.029999</td>\n",
       "      <td>202.199997</td>\n",
       "      <td>202.660004</td>\n",
       "      <td>201.666336</td>\n",
       "      <td>52924300</td>\n",
       "    </tr>\n",
       "    <tr>\n",
       "      <th>2020-09-09</th>\n",
       "      <td>207.600006</td>\n",
       "      <td>214.839996</td>\n",
       "      <td>206.699997</td>\n",
       "      <td>211.289993</td>\n",
       "      <td>210.254013</td>\n",
       "      <td>45679000</td>\n",
       "    </tr>\n",
       "    <tr>\n",
       "      <th>2020-09-10</th>\n",
       "      <td>213.399994</td>\n",
       "      <td>214.740005</td>\n",
       "      <td>204.110001</td>\n",
       "      <td>205.369995</td>\n",
       "      <td>204.363037</td>\n",
       "      <td>35461500</td>\n",
       "    </tr>\n",
       "    <tr>\n",
       "      <th>2020-09-11</th>\n",
       "      <td>207.199997</td>\n",
       "      <td>208.630005</td>\n",
       "      <td>201.240005</td>\n",
       "      <td>204.029999</td>\n",
       "      <td>203.029633</td>\n",
       "      <td>33620100</td>\n",
       "    </tr>\n",
       "    <tr>\n",
       "      <th>2020-09-14</th>\n",
       "      <td>204.240005</td>\n",
       "      <td>209.199997</td>\n",
       "      <td>204.029999</td>\n",
       "      <td>205.410004</td>\n",
       "      <td>204.402847</td>\n",
       "      <td>30375800</td>\n",
       "    </tr>\n",
       "  </tbody>\n",
       "</table>\n",
       "</div>"
      ],
      "text/plain": [
       "                  Open        High         Low       Close   Adj Close  \\\n",
       "Date                                                                     \n",
       "2020-09-08  206.500000  210.029999  202.199997  202.660004  201.666336   \n",
       "2020-09-09  207.600006  214.839996  206.699997  211.289993  210.254013   \n",
       "2020-09-10  213.399994  214.740005  204.110001  205.369995  204.363037   \n",
       "2020-09-11  207.199997  208.630005  201.240005  204.029999  203.029633   \n",
       "2020-09-14  204.240005  209.199997  204.029999  205.410004  204.402847   \n",
       "\n",
       "              Volume  \n",
       "Date                  \n",
       "2020-09-08  52924300  \n",
       "2020-09-09  45679000  \n",
       "2020-09-10  35461500  \n",
       "2020-09-11  33620100  \n",
       "2020-09-14  30375800  "
      ]
     },
     "execution_count": 3,
     "metadata": {},
     "output_type": "execute_result"
    }
   ],
   "source": [
    "data.head()"
   ]
  },
  {
   "cell_type": "code",
   "execution_count": 4,
   "metadata": {},
   "outputs": [
    {
     "name": "stdout",
     "output_type": "stream",
     "text": [
      "[*********************100%***********************]  1 of 1 completed\n"
     ]
    }
   ],
   "source": [
    "data = yf.download('MSFT', period='1mo', interval='5m')"
   ]
  },
  {
   "cell_type": "code",
   "execution_count": 5,
   "metadata": {},
   "outputs": [
    {
     "data": {
      "text/html": [
       "<div>\n",
       "<style scoped>\n",
       "    .dataframe tbody tr th:only-of-type {\n",
       "        vertical-align: middle;\n",
       "    }\n",
       "\n",
       "    .dataframe tbody tr th {\n",
       "        vertical-align: top;\n",
       "    }\n",
       "\n",
       "    .dataframe thead th {\n",
       "        text-align: right;\n",
       "    }\n",
       "</style>\n",
       "<table border=\"1\" class=\"dataframe\">\n",
       "  <thead>\n",
       "    <tr style=\"text-align: right;\">\n",
       "      <th></th>\n",
       "      <th>Open</th>\n",
       "      <th>High</th>\n",
       "      <th>Low</th>\n",
       "      <th>Close</th>\n",
       "      <th>Adj Close</th>\n",
       "      <th>Volume</th>\n",
       "    </tr>\n",
       "    <tr>\n",
       "      <th>Datetime</th>\n",
       "      <th></th>\n",
       "      <th></th>\n",
       "      <th></th>\n",
       "      <th></th>\n",
       "      <th></th>\n",
       "      <th></th>\n",
       "    </tr>\n",
       "  </thead>\n",
       "  <tbody>\n",
       "    <tr>\n",
       "      <th>2021-02-08 09:30:00-05:00</th>\n",
       "      <td>243.149994</td>\n",
       "      <td>243.679993</td>\n",
       "      <td>242.339996</td>\n",
       "      <td>242.445007</td>\n",
       "      <td>242.445007</td>\n",
       "      <td>1017808</td>\n",
       "    </tr>\n",
       "    <tr>\n",
       "      <th>2021-02-08 09:35:00-05:00</th>\n",
       "      <td>242.429993</td>\n",
       "      <td>242.800003</td>\n",
       "      <td>241.979996</td>\n",
       "      <td>242.020004</td>\n",
       "      <td>242.020004</td>\n",
       "      <td>411511</td>\n",
       "    </tr>\n",
       "    <tr>\n",
       "      <th>2021-02-08 09:40:00-05:00</th>\n",
       "      <td>242.000000</td>\n",
       "      <td>242.559998</td>\n",
       "      <td>241.860001</td>\n",
       "      <td>242.054993</td>\n",
       "      <td>242.054993</td>\n",
       "      <td>329096</td>\n",
       "    </tr>\n",
       "    <tr>\n",
       "      <th>2021-02-08 09:45:00-05:00</th>\n",
       "      <td>242.199997</td>\n",
       "      <td>242.669998</td>\n",
       "      <td>242.110001</td>\n",
       "      <td>242.149994</td>\n",
       "      <td>242.149994</td>\n",
       "      <td>310170</td>\n",
       "    </tr>\n",
       "    <tr>\n",
       "      <th>2021-02-08 09:50:00-05:00</th>\n",
       "      <td>242.250000</td>\n",
       "      <td>242.320007</td>\n",
       "      <td>241.890106</td>\n",
       "      <td>242.031998</td>\n",
       "      <td>242.031998</td>\n",
       "      <td>373392</td>\n",
       "    </tr>\n",
       "  </tbody>\n",
       "</table>\n",
       "</div>"
      ],
      "text/plain": [
       "                                 Open        High         Low       Close  \\\n",
       "Datetime                                                                    \n",
       "2021-02-08 09:30:00-05:00  243.149994  243.679993  242.339996  242.445007   \n",
       "2021-02-08 09:35:00-05:00  242.429993  242.800003  241.979996  242.020004   \n",
       "2021-02-08 09:40:00-05:00  242.000000  242.559998  241.860001  242.054993   \n",
       "2021-02-08 09:45:00-05:00  242.199997  242.669998  242.110001  242.149994   \n",
       "2021-02-08 09:50:00-05:00  242.250000  242.320007  241.890106  242.031998   \n",
       "\n",
       "                            Adj Close   Volume  \n",
       "Datetime                                        \n",
       "2021-02-08 09:30:00-05:00  242.445007  1017808  \n",
       "2021-02-08 09:35:00-05:00  242.020004   411511  \n",
       "2021-02-08 09:40:00-05:00  242.054993   329096  \n",
       "2021-02-08 09:45:00-05:00  242.149994   310170  \n",
       "2021-02-08 09:50:00-05:00  242.031998   373392  "
      ]
     },
     "execution_count": 5,
     "metadata": {},
     "output_type": "execute_result"
    }
   ],
   "source": [
    "data.head()"
   ]
  },
  {
   "cell_type": "code",
   "execution_count": null,
   "metadata": {},
   "outputs": [],
   "source": []
  }
 ],
 "metadata": {
  "kernelspec": {
   "display_name": "py37_default",
   "language": "python",
   "name": "conda-env-py37_default-py"
  },
  "language_info": {
   "codemirror_mode": {
    "name": "ipython",
    "version": 3
   },
   "file_extension": ".py",
   "mimetype": "text/x-python",
   "name": "python",
   "nbconvert_exporter": "python",
   "pygments_lexer": "ipython3",
   "version": "3.7.9"
  }
 },
 "nbformat": 4,
 "nbformat_minor": 4
}

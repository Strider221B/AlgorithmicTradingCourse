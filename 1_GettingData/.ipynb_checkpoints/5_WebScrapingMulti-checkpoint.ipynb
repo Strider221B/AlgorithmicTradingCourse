{
 "cells": [
  {
   "cell_type": "code",
   "execution_count": 1,
   "metadata": {},
   "outputs": [],
   "source": [
    "import pandas as pd\n",
    "import requests\n",
    "from bs4 import BeautifulSoup\n",
    "from typing import Dict"
   ]
  },
  {
   "cell_type": "code",
   "execution_count": 2,
   "metadata": {},
   "outputs": [],
   "source": [
    "tickers = ['MSFT', 'AMZN']\n",
    "financial_dir = {}"
   ]
  },
  {
   "cell_type": "code",
   "execution_count": 3,
   "metadata": {},
   "outputs": [],
   "source": [
    "def get_details_for(ticker: str, info_type: str, ticker_dict: dict) -> dict:\n",
    "    url = f'https://finance.yahoo.com/quote/{ticker}/{info_type}'\n",
    "    page = requests.get(url)\n",
    "    soup = BeautifulSoup(page.content, 'html.parser')\n",
    "    table = soup.find_all('div', {'class': 'M(0) Whs(n) BdEnd Bdc($seperatorColor) D(itb)'})\n",
    "    rows = table[0].find_all('div', {'class': 'D(tbrg)'})[0].find_all('div', {'class': 'D(tbr) fi-row Bgc($hoverBgColor):h'})\n",
    "    for row in rows:\n",
    "        row_text = row.get_text(separator='|').split('|')\n",
    "        ticker_dict[row_text[0]] = row_text[1]\n",
    "    return ticker_dict"
   ]
  },
  {
   "cell_type": "code",
   "execution_count": 4,
   "metadata": {},
   "outputs": [],
   "source": [
    "def get_statistics_for(ticker: str, ticker_dict: dict) -> dict:\n",
    "    url = f'https://finance.yahoo.com/quote/{ticker}/key-statistics'\n",
    "    page = requests.get(url)\n",
    "    soup = BeautifulSoup(page.content, 'html.parser')\n",
    "    table = soup.find_all('div', {'class': 'Mb(10px) smartphone_Pend(0px) Pend(20px)'})\n",
    "    rows = table[0].find_all('div', {'class': 'Pos(r) Mt(10px)'})[0]\n",
    "    rows = rows.find_all('table', {'class': 'W(100%) Bdcl(c)'})[0].find_all('tr')\n",
    "    for row in rows:\n",
    "        row_text = row.get_text(separator='|').split('|')\n",
    "        ticker_dict[row_text[0]] = row_text[-1]\n",
    "    return ticker_dict"
   ]
  },
  {
   "cell_type": "code",
   "execution_count": 5,
   "metadata": {},
   "outputs": [],
   "source": [
    "for ticker in tickers:\n",
    "    ticker_dict = get_details_for(ticker, 'balance-sheet', {})\n",
    "    ticker_dict = get_details_for(ticker, 'financials', ticker_dict)\n",
    "    ticker_dict = get_details_for(ticker, 'cash-flow', ticker_dict)\n",
    "    ticker_dict = get_statistics_for(ticker, ticker_dict)\n",
    "    financial_dir[ticker] = ticker_dict"
   ]
  },
  {
   "cell_type": "code",
   "execution_count": 6,
   "metadata": {},
   "outputs": [],
   "source": [
    "combined_financials = pd.DataFrame(financial_dir)\n",
    "# combined_financials.dropna(axis=1, inplace=True) # in case some tickers have all NaNs\n",
    "# tickers = combined_financials.columns"
   ]
  },
  {
   "cell_type": "code",
   "execution_count": 7,
   "metadata": {},
   "outputs": [
    {
     "data": {
      "text/html": [
       "<div>\n",
       "<style scoped>\n",
       "    .dataframe tbody tr th:only-of-type {\n",
       "        vertical-align: middle;\n",
       "    }\n",
       "\n",
       "    .dataframe tbody tr th {\n",
       "        vertical-align: top;\n",
       "    }\n",
       "\n",
       "    .dataframe thead th {\n",
       "        text-align: right;\n",
       "    }\n",
       "</style>\n",
       "<table border=\"1\" class=\"dataframe\">\n",
       "  <thead>\n",
       "    <tr style=\"text-align: right;\">\n",
       "      <th></th>\n",
       "      <th>MSFT</th>\n",
       "      <th>AMZN</th>\n",
       "    </tr>\n",
       "  </thead>\n",
       "  <tbody>\n",
       "    <tr>\n",
       "      <th>Total Assets</th>\n",
       "      <td>301,311,000</td>\n",
       "      <td>321,195,000</td>\n",
       "    </tr>\n",
       "    <tr>\n",
       "      <th>Total Liabilities Net Minority Interest</th>\n",
       "      <td>183,007,000</td>\n",
       "      <td>227,791,000</td>\n",
       "    </tr>\n",
       "    <tr>\n",
       "      <th>Total Equity Gross Minority Interest</th>\n",
       "      <td>118,304,000</td>\n",
       "      <td>93,404,000</td>\n",
       "    </tr>\n",
       "    <tr>\n",
       "      <th>Total Capitalization</th>\n",
       "      <td>177,882,000</td>\n",
       "      <td>125,220,000</td>\n",
       "    </tr>\n",
       "    <tr>\n",
       "      <th>Common Stock Equity</th>\n",
       "      <td>118,304,000</td>\n",
       "      <td>93,404,000</td>\n",
       "    </tr>\n",
       "    <tr>\n",
       "      <th>...</th>\n",
       "      <td>...</td>\n",
       "      <td>...</td>\n",
       "    </tr>\n",
       "    <tr>\n",
       "      <th>Enterprise Value/EBITDA</th>\n",
       "      <td>23.68</td>\n",
       "      <td>31.73</td>\n",
       "    </tr>\n",
       "    <tr>\n",
       "      <th>Treasury Shares Number</th>\n",
       "      <td>NaN</td>\n",
       "      <td>24,000</td>\n",
       "    </tr>\n",
       "    <tr>\n",
       "      <th>Earnings from Equity Interest Net of Tax</th>\n",
       "      <td>NaN</td>\n",
       "      <td>-100,000</td>\n",
       "    </tr>\n",
       "    <tr>\n",
       "      <th>Income Tax Paid Supplemental Data</th>\n",
       "      <td>NaN</td>\n",
       "      <td>1,221,000</td>\n",
       "    </tr>\n",
       "    <tr>\n",
       "      <th>Interest Paid Supplemental Data</th>\n",
       "      <td>NaN</td>\n",
       "      <td>1,610,000</td>\n",
       "    </tr>\n",
       "  </tbody>\n",
       "</table>\n",
       "<p>69 rows × 2 columns</p>\n",
       "</div>"
      ],
      "text/plain": [
       "                                                 MSFT         AMZN\n",
       "Total Assets                              301,311,000  321,195,000\n",
       "Total Liabilities Net Minority Interest   183,007,000  227,791,000\n",
       "Total Equity Gross Minority Interest      118,304,000   93,404,000\n",
       "Total Capitalization                      177,882,000  125,220,000\n",
       "Common Stock Equity                       118,304,000   93,404,000\n",
       "...                                               ...          ...\n",
       "Enterprise Value/EBITDA                         23.68        31.73\n",
       "Treasury Shares Number                            NaN       24,000\n",
       "Earnings from Equity Interest Net of Tax          NaN     -100,000\n",
       "Income Tax Paid Supplemental Data                 NaN    1,221,000\n",
       "Interest Paid Supplemental Data                   NaN    1,610,000\n",
       "\n",
       "[69 rows x 2 columns]"
      ]
     },
     "execution_count": 7,
     "metadata": {},
     "output_type": "execute_result"
    }
   ],
   "source": [
    "combined_financials"
   ]
  },
  {
   "cell_type": "code",
   "execution_count": null,
   "metadata": {},
   "outputs": [],
   "source": []
  }
 ],
 "metadata": {
  "kernelspec": {
   "display_name": "py37_default",
   "language": "python",
   "name": "conda-env-py37_default-py"
  },
  "language_info": {
   "codemirror_mode": {
    "name": "ipython",
    "version": 3
   },
   "file_extension": ".py",
   "mimetype": "text/x-python",
   "name": "python",
   "nbconvert_exporter": "python",
   "pygments_lexer": "ipython3",
   "version": "3.7.9"
  }
 },
 "nbformat": 4,
 "nbformat_minor": 4
}

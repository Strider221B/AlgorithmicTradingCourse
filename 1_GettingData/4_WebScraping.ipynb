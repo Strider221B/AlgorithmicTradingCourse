{
 "cells": [
  {
   "cell_type": "code",
   "execution_count": 1,
   "metadata": {},
   "outputs": [],
   "source": [
    "import requests\n",
    "from bs4 import BeautifulSoup"
   ]
  },
  {
   "cell_type": "code",
   "execution_count": 2,
   "metadata": {},
   "outputs": [],
   "source": [
    "url = r'https://finance.yahoo.com/quote/MSFT/balance-sheet/'"
   ]
  },
  {
   "cell_type": "code",
   "execution_count": 3,
   "metadata": {},
   "outputs": [],
   "source": [
    "page = requests.get(url)"
   ]
  },
  {
   "cell_type": "code",
   "execution_count": 4,
   "metadata": {},
   "outputs": [],
   "source": [
    "soup = BeautifulSoup(page.content, 'html.parser')"
   ]
  },
  {
   "cell_type": "code",
   "execution_count": 7,
   "metadata": {},
   "outputs": [
    {
     "data": {
      "text/plain": [
       "bs4.element.ResultSet"
      ]
     },
     "execution_count": 7,
     "metadata": {},
     "output_type": "execute_result"
    }
   ],
   "source": [
    "table = soup.find_all('div', {'class': 'M(0) Whs(n) BdEnd Bdc($seperatorColor) D(itb)'})\n",
    "type(table)"
   ]
  },
  {
   "cell_type": "code",
   "execution_count": 17,
   "metadata": {},
   "outputs": [
    {
     "data": {
      "text/plain": [
       "bs4.element.ResultSet"
      ]
     },
     "execution_count": 17,
     "metadata": {},
     "output_type": "execute_result"
    }
   ],
   "source": [
    "rows = table[0].find_all('div', {'class': 'D(tbrg)'})[0].find_all('div', {'class': 'D(tbr) fi-row Bgc($hoverBgColor):h'})\n",
    "type(rows)"
   ]
  },
  {
   "cell_type": "code",
   "execution_count": 18,
   "metadata": {},
   "outputs": [
    {
     "name": "stdout",
     "output_type": "stream",
     "text": [
      "Total Assets301,311,000286,556,000258,848,000241,086,000\n",
      "Total Liabilities Net Minority Interest183,007,000184,226,000176,130,000168,692,000\n",
      "Total Equity Gross Minority Interest118,304,000102,330,00082,718,00072,394,000\n",
      "Total Capitalization177,882,000168,992,000154,960,000148,467,000\n",
      "Common Stock Equity118,304,000102,330,00082,718,00072,394,000\n",
      "Capital Lease Obligations7,671,0006,188,0005,568,000-\n",
      "Net Tangible Assets67,915,00052,554,00038,982,00027,166,000\n",
      "Working Capital109,605,000106,132,000111,174,00095,324,000\n",
      "Invested Capital181,631,000174,508,000158,958,000158,588,000\n",
      "Tangible Book Value67,915,00052,554,00038,982,00027,166,000\n",
      "Total Debt70,998,00078,366,00081,808,00086,194,000\n",
      "Net Debt49,751,00060,822,00064,294,00078,531,000\n",
      "Share Issued7,571,0007,643,0007,677,0007,708,000\n",
      "Ordinary Shares Number7,571,0007,643,0007,677,0007,708,000\n"
     ]
    }
   ],
   "source": [
    "for row in rows:\n",
    "    print(row.get_text())"
   ]
  },
  {
   "cell_type": "code",
   "execution_count": null,
   "metadata": {},
   "outputs": [],
   "source": []
  }
 ],
 "metadata": {
  "kernelspec": {
   "display_name": "py37_default",
   "language": "python",
   "name": "conda-env-py37_default-py"
  },
  "language_info": {
   "codemirror_mode": {
    "name": "ipython",
    "version": 3
   },
   "file_extension": ".py",
   "mimetype": "text/x-python",
   "name": "python",
   "nbconvert_exporter": "python",
   "pygments_lexer": "ipython3",
   "version": "3.7.9"
  }
 },
 "nbformat": 4,
 "nbformat_minor": 4
}

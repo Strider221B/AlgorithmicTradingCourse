{
 "cells": [
  {
   "cell_type": "markdown",
   "metadata": {},
   "source": [
    "# Monthly Portfolio Rebalancing\n",
    "\n",
    "1. Choose any universe of stocks (Large Cap, Mid Cap etc.) and stick to this group of stocks as the source for your portfolio for the entire duration of back testing.\n",
    "1. Build fixed individual position sized long only portfolio by picking 'm' number of stocks based on monthly returns (or any other suitable criterion).\n",
    "1. Rebalance the portfolio every month by removing worse 'x' stocks and replacing them with top 'x' stocks from the universe of stocks (can existing stocks be picked again)?\n",
    "1. Backtest the strategy and compare the KPIs with that of simple buy and hold strategy of corresponding index."
   ]
  },
  {
   "cell_type": "code",
   "execution_count": 1,
   "metadata": {},
   "outputs": [],
   "source": [
    "import datetime as dt\n",
    "import matplotlib.pyplot as plt\n",
    "import numpy as np\n",
    "import pandas as pd\n",
    "import os\n",
    "import yfinance as yf\n",
    "\n",
    "import BTCourse\n",
    "from PortfolioRebalancing import PortfolioRebalancing"
   ]
  },
  {
   "cell_type": "code",
   "execution_count": 2,
   "metadata": {},
   "outputs": [],
   "source": [
    "os.chdir('./../4_PerformanceMeasurement/')"
   ]
  },
  {
   "cell_type": "code",
   "execution_count": 3,
   "metadata": {},
   "outputs": [],
   "source": [
    "from PerformanceMeasurements import PerformanceMeasurements"
   ]
  },
  {
   "cell_type": "code",
   "execution_count": 4,
   "metadata": {},
   "outputs": [],
   "source": [
    "# Download historical data (monthly) for DJI constituent stocks\n",
    "# tickers = [\"MMM\",\"AXP\",\"T\",\"BA\",\"CAT\",\"CSCO\",\"KO\"]\n",
    "tickers = [\"MMM\",\"AXP\",\"T\",\"BA\",\"CAT\",\"CSCO\",\"KO\", \"XOM\",\"GE\",\"GS\",\"HD\",\n",
    "           \"IBM\",\"INTC\",\"JNJ\",\"JPM\",\"MCD\",\"MRK\",\"MSFT\",\"NKE\",\"PFE\",\"PG\",\"TRV\",\n",
    "           \"UNH\",\"VZ\",\"V\",\"WMT\",\"DIS\"]"
   ]
  },
  {
   "cell_type": "code",
   "execution_count": 5,
   "metadata": {},
   "outputs": [],
   "source": [
    "ohlc = {}\n",
    "end = dt.date.today()\n",
    "start = end - dt.timedelta(3650)"
   ]
  },
  {
   "cell_type": "code",
   "execution_count": 6,
   "metadata": {},
   "outputs": [
    {
     "name": "stdout",
     "output_type": "stream",
     "text": [
      "[*********************100%***********************]  1 of 1 completed\n",
      "[*********************100%***********************]  1 of 1 completed\n",
      "[*********************100%***********************]  1 of 1 completed\n",
      "[*********************100%***********************]  1 of 1 completed\n",
      "[*********************100%***********************]  1 of 1 completed\n",
      "[*********************100%***********************]  1 of 1 completed\n",
      "[*********************100%***********************]  1 of 1 completed\n",
      "[*********************100%***********************]  1 of 1 completed\n",
      "[*********************100%***********************]  1 of 1 completed\n",
      "[*********************100%***********************]  1 of 1 completed\n",
      "[*********************100%***********************]  1 of 1 completed\n",
      "[*********************100%***********************]  1 of 1 completed\n",
      "[*********************100%***********************]  1 of 1 completed\n",
      "[*********************100%***********************]  1 of 1 completed\n",
      "[*********************100%***********************]  1 of 1 completed\n",
      "[*********************100%***********************]  1 of 1 completed\n",
      "[*********************100%***********************]  1 of 1 completed\n",
      "[*********************100%***********************]  1 of 1 completed\n",
      "[*********************100%***********************]  1 of 1 completed\n",
      "[*********************100%***********************]  1 of 1 completed\n",
      "[*********************100%***********************]  1 of 1 completed\n",
      "[*********************100%***********************]  1 of 1 completed\n",
      "[*********************100%***********************]  1 of 1 completed\n",
      "[*********************100%***********************]  1 of 1 completed\n",
      "[*********************100%***********************]  1 of 1 completed\n",
      "[*********************100%***********************]  1 of 1 completed\n",
      "[*********************100%***********************]  1 of 1 completed\n"
     ]
    }
   ],
   "source": [
    "for ticker in tickers:\n",
    "    ohlc[ticker] = yf.download(ticker, start, end, interval='1mo')\n",
    "    ohlc[ticker].dropna(inplace=True, how='all')"
   ]
  },
  {
   "cell_type": "code",
   "execution_count": 7,
   "metadata": {},
   "outputs": [],
   "source": [
    "tickers = ohlc.keys()"
   ]
  },
  {
   "cell_type": "code",
   "execution_count": 8,
   "metadata": {},
   "outputs": [
    {
     "name": "stdout",
     "output_type": "stream",
     "text": [
      "calculating monthly return for  MMM\n",
      "calculating monthly return for  AXP\n",
      "calculating monthly return for  T\n",
      "calculating monthly return for  BA\n",
      "calculating monthly return for  CAT\n",
      "calculating monthly return for  CSCO\n",
      "calculating monthly return for  KO\n",
      "calculating monthly return for  XOM\n",
      "calculating monthly return for  GE\n",
      "calculating monthly return for  GS\n",
      "calculating monthly return for  HD\n",
      "calculating monthly return for  IBM\n",
      "calculating monthly return for  INTC\n",
      "calculating monthly return for  JNJ\n",
      "calculating monthly return for  JPM\n",
      "calculating monthly return for  MCD\n",
      "calculating monthly return for  MRK\n",
      "calculating monthly return for  MSFT\n",
      "calculating monthly return for  NKE\n",
      "calculating monthly return for  PFE\n",
      "calculating monthly return for  PG\n",
      "calculating monthly return for  TRV\n",
      "calculating monthly return for  UNH\n",
      "calculating monthly return for  VZ\n",
      "calculating monthly return for  V\n",
      "calculating monthly return for  WMT\n",
      "calculating monthly return for  DIS\n"
     ]
    }
   ],
   "source": [
    "monthly_returns_df = PortfolioRebalancing.get_monthly_return(ohlc)\n",
    "monthly_returns_df_course = BTCourse.get_monthly_return(tickers, ohlc)"
   ]
  },
  {
   "cell_type": "code",
   "execution_count": 9,
   "metadata": {},
   "outputs": [],
   "source": [
    "cpr_1, hist_1 = PortfolioRebalancing.cumulative_portfolio_returns(monthly_returns_df, 6, 3)\n",
    "cpr_2, hist_2 = BTCourse.pflio(monthly_returns_df_course, 6, 3)"
   ]
  },
  {
   "cell_type": "code",
   "execution_count": 10,
   "metadata": {},
   "outputs": [
    {
     "data": {
      "text/plain": [
       "(0.15549970109775546, 0.15549970109775546)"
      ]
     },
     "execution_count": 10,
     "metadata": {},
     "output_type": "execute_result"
    }
   ],
   "source": [
    "PerformanceMeasurements.get_cagr_for_returns(cpr_1, 12), BTCourse.CAGR(cpr_2)"
   ]
  },
  {
   "cell_type": "code",
   "execution_count": 11,
   "metadata": {},
   "outputs": [
    {
     "data": {
      "text/plain": [
       "(0.9458881738860871, 0.9419387279356747)"
      ]
     },
     "execution_count": 11,
     "metadata": {},
     "output_type": "execute_result"
    }
   ],
   "source": [
    "PerformanceMeasurements.get_sharpe_ratio_for_returns(cpr_1, 12, 0.025), BTCourse.sharpe(cpr_2, 0.025)"
   ]
  },
  {
   "cell_type": "code",
   "execution_count": 12,
   "metadata": {},
   "outputs": [
    {
     "data": {
      "text/plain": [
       "(0.22645412723371447, 0.22645412723371447)"
      ]
     },
     "execution_count": 12,
     "metadata": {},
     "output_type": "execute_result"
    }
   ],
   "source": [
    "PerformanceMeasurements.get_max_drawdown_for_returns(cpr_1), BTCourse.max_dd(cpr_2)"
   ]
  },
  {
   "cell_type": "code",
   "execution_count": 13,
   "metadata": {},
   "outputs": [
    {
     "name": "stdout",
     "output_type": "stream",
     "text": [
      "[*********************100%***********************]  1 of 1 completed\n"
     ]
    }
   ],
   "source": [
    "dow_jones_index = yf.download(\"^DJI\",dt.date.today()-dt.timedelta(3650),dt.date.today(),interval='1mo')\n",
    "dow_jones_index[\"mon_ret\"] = dow_jones_index[\"Adj Close\"].pct_change().fillna(0)"
   ]
  },
  {
   "cell_type": "code",
   "execution_count": 14,
   "metadata": {},
   "outputs": [
    {
     "data": {
      "text/plain": [
       "(0.09751971888044864, 0.09751971888044864)"
      ]
     },
     "execution_count": 14,
     "metadata": {},
     "output_type": "execute_result"
    }
   ],
   "source": [
    "PerformanceMeasurements.get_cagr_for_returns(dow_jones_index['mon_ret'].values, 12), BTCourse.CAGR(dow_jones_index)"
   ]
  },
  {
   "cell_type": "code",
   "execution_count": 15,
   "metadata": {},
   "outputs": [
    {
     "data": {
      "text/plain": [
       "(0.5333461902064182, 0.5311192652810068)"
      ]
     },
     "execution_count": 15,
     "metadata": {},
     "output_type": "execute_result"
    }
   ],
   "source": [
    "PerformanceMeasurements.get_sharpe_ratio_for_returns(dow_jones_index['mon_ret'].values, 12, 0.025), BTCourse.sharpe(dow_jones_index, 0.025)"
   ]
  },
  {
   "cell_type": "code",
   "execution_count": 16,
   "metadata": {},
   "outputs": [
    {
     "data": {
      "text/plain": [
       "(0.2320126616506342, 0.2320126616506342)"
      ]
     },
     "execution_count": 16,
     "metadata": {},
     "output_type": "execute_result"
    }
   ],
   "source": [
    "PerformanceMeasurements.get_max_drawdown_for_returns(dow_jones_index['mon_ret'].values), BTCourse.max_dd(dow_jones_index)"
   ]
  },
  {
   "cell_type": "code",
   "execution_count": null,
   "metadata": {},
   "outputs": [],
   "source": []
  }
 ],
 "metadata": {
  "kernelspec": {
   "display_name": "py37_default",
   "language": "python",
   "name": "conda-env-py37_default-py"
  },
  "language_info": {
   "codemirror_mode": {
    "name": "ipython",
    "version": 3
   },
   "file_extension": ".py",
   "mimetype": "text/x-python",
   "name": "python",
   "nbconvert_exporter": "python",
   "pygments_lexer": "ipython3",
   "version": "3.7.9"
  }
 },
 "nbformat": 4,
 "nbformat_minor": 4
}

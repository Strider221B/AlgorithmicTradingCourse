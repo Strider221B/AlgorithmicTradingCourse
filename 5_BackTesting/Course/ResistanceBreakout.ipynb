{
 "cells": [
  {
   "cell_type": "code",
   "execution_count": 1,
   "metadata": {},
   "outputs": [],
   "source": [
    "import numpy as np\n",
    "import pandas as pd\n",
    "from alpha_vantage.timeseries import TimeSeries\n",
    "import copy\n",
    "import time"
   ]
  },
  {
   "cell_type": "code",
   "execution_count": 2,
   "metadata": {},
   "outputs": [],
   "source": [
    "def ATR(DF,n):\n",
    "    \"function to calculate True Range and Average True Range\"\n",
    "    df = DF.copy()\n",
    "    df['H-L']=abs(df['High']-df['Low'])\n",
    "    df['H-PC']=abs(df['High']-df['Close'].shift(1))\n",
    "    df['L-PC']=abs(df['Low']-df['Close'].shift(1))\n",
    "    df['TR']=df[['H-L','H-PC','L-PC']].max(axis=1,skipna=False)\n",
    "    df['ATR'] = df['TR'].rolling(n).mean()\n",
    "    #df['ATR'] = df['TR'].ewm(span=n,adjust=False,min_periods=n).mean()\n",
    "    df2 = df.drop(['H-L','H-PC','L-PC'],axis=1)\n",
    "    return df2['ATR']\n",
    "\n",
    "def CAGR(DF):\n",
    "    \"function to calculate the Cumulative Annual Growth Rate of a trading strategy\"\n",
    "    df = DF.copy()\n",
    "    df[\"cum_return\"] = (1 + df[\"ret\"]).cumprod()\n",
    "    n = len(df)/(252*78)\n",
    "    CAGR = (df[\"cum_return\"].tolist()[-1])**(1/n) - 1\n",
    "    return CAGR\n",
    "\n",
    "def volatility(DF):\n",
    "    \"function to calculate annualized volatility of a trading strategy\"\n",
    "    df = DF.copy()\n",
    "    vol = df[\"ret\"].std() * np.sqrt(252*78)\n",
    "    return vol\n",
    "\n",
    "def sharpe(DF,rf):\n",
    "    \"function to calculate sharpe ratio ; rf is the risk free rate\"\n",
    "    df = DF.copy()\n",
    "    sr = (CAGR(df) - rf)/volatility(df)\n",
    "    return sr\n",
    "    \n",
    "\n",
    "def max_dd(DF):\n",
    "    \"function to calculate max drawdown\"\n",
    "    df = DF.copy()\n",
    "    df[\"cum_return\"] = (1 + df[\"ret\"]).cumprod()\n",
    "    df[\"cum_roll_max\"] = df[\"cum_return\"].cummax()\n",
    "    df[\"drawdown\"] = df[\"cum_roll_max\"] - df[\"cum_return\"]\n",
    "    df[\"drawdown_pct\"] = df[\"drawdown\"]/df[\"cum_roll_max\"]\n",
    "    max_dd = df[\"drawdown_pct\"].max()\n",
    "    return max_dd"
   ]
  },
  {
   "cell_type": "code",
   "execution_count": 3,
   "metadata": {},
   "outputs": [],
   "source": [
    "import os\n",
    "os.chdir('./../../')"
   ]
  },
  {
   "cell_type": "code",
   "execution_count": 4,
   "metadata": {},
   "outputs": [],
   "source": [
    "from Resources.APIKeys import APIKeys\n",
    "ts = TimeSeries(key=APIKeys.alpha_vantage, output_format='pandas')"
   ]
  },
  {
   "cell_type": "code",
   "execution_count": 5,
   "metadata": {},
   "outputs": [],
   "source": [
    "tickers = [\"MSFT\",\"AAPL\",\"FB\",\"AMZN\",\"INTC\", \"CSCO\",\"VZ\",\"IBM\",\"TSLA\",\"AMD\"]"
   ]
  },
  {
   "cell_type": "code",
   "execution_count": 7,
   "metadata": {},
   "outputs": [],
   "source": [
    "ohlc_intraday = {} # directory with ohlc value for each stock   \n",
    "api_call_count = 1\n",
    "start_time = time.time()\n",
    "for ticker in tickers:\n",
    "    data = ts.get_intraday(symbol=ticker,interval='5min', outputsize='full')[0]\n",
    "    api_call_count+=1\n",
    "    data.columns = [\"Open\",\"High\",\"Low\",\"Close\",\"Volume\"]\n",
    "    data = data.iloc[::-1]\n",
    "    data = data.between_time('09:35', '16:00') #remove data outside regular trading hours\n",
    "    ohlc_intraday[ticker] = data\n",
    "    if api_call_count==5:\n",
    "        api_call_count = 1\n",
    "        time.sleep(60 - ((time.time() - start_time) % 60.0))\n",
    "\n",
    "tickers = ohlc_intraday.keys() # redefine tickers variable after removing any tickers with corrupted data"
   ]
  },
  {
   "cell_type": "code",
   "execution_count": 8,
   "metadata": {},
   "outputs": [
    {
     "name": "stdout",
     "output_type": "stream",
     "text": [
      "calculating ATR and rolling max price for  MSFT\n",
      "calculating ATR and rolling max price for  AAPL\n",
      "calculating ATR and rolling max price for  FB\n",
      "calculating ATR and rolling max price for  AMZN\n",
      "calculating ATR and rolling max price for  INTC\n",
      "calculating ATR and rolling max price for  CSCO\n",
      "calculating ATR and rolling max price for  VZ\n",
      "calculating ATR and rolling max price for  IBM\n",
      "calculating ATR and rolling max price for  TSLA\n",
      "calculating ATR and rolling max price for  AMD\n"
     ]
    }
   ],
   "source": [
    "# calculating ATR and rolling max price for each stock and consolidating this info by stock in a separate dataframe\n",
    "ohlc_dict = copy.deepcopy(ohlc_intraday)\n",
    "tickers_signal = {}\n",
    "tickers_ret = {}\n",
    "for ticker in tickers:\n",
    "    print(\"calculating ATR and rolling max price for \",ticker)\n",
    "    ohlc_dict[ticker][\"ATR\"] = ATR(ohlc_dict[ticker],20)\n",
    "    ohlc_dict[ticker][\"roll_max_cp\"] = ohlc_dict[ticker][\"High\"].rolling(20).max()\n",
    "    ohlc_dict[ticker][\"roll_min_cp\"] = ohlc_dict[ticker][\"Low\"].rolling(20).min()\n",
    "    ohlc_dict[ticker][\"roll_max_vol\"] = ohlc_dict[ticker][\"Volume\"].rolling(20).max()\n",
    "    ohlc_dict[ticker].dropna(inplace=True)\n",
    "    tickers_signal[ticker] = \"\"\n",
    "    tickers_ret[ticker] = [0]"
   ]
  },
  {
   "cell_type": "code",
   "execution_count": 9,
   "metadata": {},
   "outputs": [
    {
     "name": "stdout",
     "output_type": "stream",
     "text": [
      "calculating returns for  MSFT\n",
      "calculating returns for  AAPL\n",
      "calculating returns for  FB\n",
      "calculating returns for  AMZN\n",
      "calculating returns for  INTC\n",
      "calculating returns for  CSCO\n",
      "calculating returns for  VZ\n",
      "calculating returns for  IBM\n",
      "calculating returns for  TSLA\n",
      "calculating returns for  AMD\n"
     ]
    }
   ],
   "source": [
    "# identifying signals and calculating daily return (stop loss factored in)\n",
    "for ticker in tickers:\n",
    "    print(\"calculating returns for \",ticker)\n",
    "    for i in range(1,len(ohlc_dict[ticker])):\n",
    "        if tickers_signal[ticker] == \"\":\n",
    "            tickers_ret[ticker].append(0)\n",
    "            if ohlc_dict[ticker][\"High\"][i]>=ohlc_dict[ticker][\"roll_max_cp\"][i] and \\\n",
    "               ohlc_dict[ticker][\"Volume\"][i]>1.5*ohlc_dict[ticker][\"roll_max_vol\"][i-1]:\n",
    "                tickers_signal[ticker] = \"Buy\"\n",
    "            elif ohlc_dict[ticker][\"Low\"][i]<=ohlc_dict[ticker][\"roll_min_cp\"][i] and \\\n",
    "               ohlc_dict[ticker][\"Volume\"][i]>1.5*ohlc_dict[ticker][\"roll_max_vol\"][i-1]:\n",
    "                tickers_signal[ticker] = \"Sell\"\n",
    "        \n",
    "        elif tickers_signal[ticker] == \"Buy\":\n",
    "            if ohlc_dict[ticker][\"Low\"][i]<ohlc_dict[ticker][\"Close\"][i-1] - ohlc_dict[ticker][\"ATR\"][i-1]:\n",
    "                tickers_signal[ticker] = \"\"\n",
    "                tickers_ret[ticker].append(((ohlc_dict[ticker][\"Close\"][i-1] - ohlc_dict[ticker][\"ATR\"][i-1])/ohlc_dict[ticker][\"Close\"][i-1])-1)\n",
    "            elif ohlc_dict[ticker][\"Low\"][i]<=ohlc_dict[ticker][\"roll_min_cp\"][i] and \\\n",
    "               ohlc_dict[ticker][\"Volume\"][i]>1.5*ohlc_dict[ticker][\"roll_max_vol\"][i-1]:\n",
    "                tickers_signal[ticker] = \"Sell\"\n",
    "                tickers_ret[ticker].append((ohlc_dict[ticker][\"Close\"][i]/ohlc_dict[ticker][\"Close\"][i-1])-1)\n",
    "            else:\n",
    "                tickers_ret[ticker].append((ohlc_dict[ticker][\"Close\"][i]/ohlc_dict[ticker][\"Close\"][i-1])-1)\n",
    "                \n",
    "        elif tickers_signal[ticker] == \"Sell\":\n",
    "            if ohlc_dict[ticker][\"High\"][i]>ohlc_dict[ticker][\"Close\"][i-1] + ohlc_dict[ticker][\"ATR\"][i-1]:\n",
    "                tickers_signal[ticker] = \"\"\n",
    "                tickers_ret[ticker].append((ohlc_dict[ticker][\"Close\"][i-1]/(ohlc_dict[ticker][\"Close\"][i-1] + ohlc_dict[ticker][\"ATR\"][i-1]))-1)\n",
    "            elif ohlc_dict[ticker][\"High\"][i]>=ohlc_dict[ticker][\"roll_max_cp\"][i] and \\\n",
    "               ohlc_dict[ticker][\"Volume\"][i]>1.5*ohlc_dict[ticker][\"roll_max_vol\"][i-1]:\n",
    "                tickers_signal[ticker] = \"Buy\"\n",
    "                tickers_ret[ticker].append((ohlc_dict[ticker][\"Close\"][i-1]/ohlc_dict[ticker][\"Close\"][i])-1)\n",
    "            else:\n",
    "                tickers_ret[ticker].append((ohlc_dict[ticker][\"Close\"][i-1]/ohlc_dict[ticker][\"Close\"][i])-1)\n",
    "                \n",
    "    ohlc_dict[ticker][\"ret\"] = np.array(tickers_ret[ticker])"
   ]
  },
  {
   "cell_type": "code",
   "execution_count": 10,
   "metadata": {},
   "outputs": [
    {
     "data": {
      "text/plain": [
       "0.009005609187712572"
      ]
     },
     "execution_count": 10,
     "metadata": {},
     "output_type": "execute_result"
    }
   ],
   "source": [
    "# calculating overall strategy's KPIs\n",
    "strategy_df = pd.DataFrame()\n",
    "for ticker in tickers:\n",
    "    strategy_df[ticker] = ohlc_dict[ticker][\"ret\"]\n",
    "strategy_df[\"ret\"] = strategy_df.mean(axis=1)\n",
    "CAGR(strategy_df)\n",
    "sharpe(strategy_df,0.025)\n",
    "max_dd(strategy_df)  "
   ]
  },
  {
   "cell_type": "code",
   "execution_count": 11,
   "metadata": {},
   "outputs": [
    {
     "data": {
      "text/plain": [
       "<AxesSubplot:xlabel='date'>"
      ]
     },
     "execution_count": 11,
     "metadata": {},
     "output_type": "execute_result"
    },
    {
     "data": {
      "image/png": "[encoded data removed]",
      "text/plain": [
       "<Figure size 432x288 with 1 Axes>"
      ]
     },
     "metadata": {
      "needs_background": "light"
     },
     "output_type": "display_data"
    }
   ],
   "source": [
    "# vizualization of strategy return\n",
    "(1+strategy_df[\"ret\"]).cumprod().plot();"
   ]
  },
  {
   "cell_type": "code",
   "execution_count": 12,
   "metadata": {},
   "outputs": [
    {
     "name": "stdout",
     "output_type": "stream",
     "text": [
      "calculating KPIs for  MSFT\n",
      "calculating KPIs for  AAPL\n",
      "calculating KPIs for  FB\n",
      "calculating KPIs for  AMZN\n",
      "calculating KPIs for  INTC\n",
      "calculating KPIs for  CSCO\n",
      "calculating KPIs for  VZ\n",
      "calculating KPIs for  IBM\n",
      "calculating KPIs for  TSLA\n",
      "calculating KPIs for  AMD\n"
     ]
    },
    {
     "data": {
      "text/html": [
       "<div>\n",
       "<style scoped>\n",
       "    .dataframe tbody tr th:only-of-type {\n",
       "        vertical-align: middle;\n",
       "    }\n",
       "\n",
       "    .dataframe tbody tr th {\n",
       "        vertical-align: top;\n",
       "    }\n",
       "\n",
       "    .dataframe thead th {\n",
       "        text-align: right;\n",
       "    }\n",
       "</style>\n",
       "<table border=\"1\" class=\"dataframe\">\n",
       "  <thead>\n",
       "    <tr style=\"text-align: right;\">\n",
       "      <th></th>\n",
       "      <th>Return</th>\n",
       "      <th>Sharpe Ratio</th>\n",
       "      <th>Max Drawdown</th>\n",
       "    </tr>\n",
       "  </thead>\n",
       "  <tbody>\n",
       "    <tr>\n",
       "      <th>MSFT</th>\n",
       "      <td>0.218582</td>\n",
       "      <td>2.798957</td>\n",
       "      <td>0.012145</td>\n",
       "    </tr>\n",
       "    <tr>\n",
       "      <th>AAPL</th>\n",
       "      <td>0.181494</td>\n",
       "      <td>1.264138</td>\n",
       "      <td>0.030317</td>\n",
       "    </tr>\n",
       "    <tr>\n",
       "      <th>FB</th>\n",
       "      <td>1.098673</td>\n",
       "      <td>9.516636</td>\n",
       "      <td>0.012837</td>\n",
       "    </tr>\n",
       "    <tr>\n",
       "      <th>AMZN</th>\n",
       "      <td>0.556197</td>\n",
       "      <td>5.097701</td>\n",
       "      <td>0.008266</td>\n",
       "    </tr>\n",
       "    <tr>\n",
       "      <th>INTC</th>\n",
       "      <td>-0.116828</td>\n",
       "      <td>-2.589028</td>\n",
       "      <td>0.012948</td>\n",
       "    </tr>\n",
       "    <tr>\n",
       "      <th>CSCO</th>\n",
       "      <td>-0.126238</td>\n",
       "      <td>-3.736189</td>\n",
       "      <td>0.011343</td>\n",
       "    </tr>\n",
       "    <tr>\n",
       "      <th>VZ</th>\n",
       "      <td>0.244535</td>\n",
       "      <td>2.472722</td>\n",
       "      <td>0.008220</td>\n",
       "    </tr>\n",
       "    <tr>\n",
       "      <th>IBM</th>\n",
       "      <td>-0.081106</td>\n",
       "      <td>-2.257131</td>\n",
       "      <td>0.013894</td>\n",
       "    </tr>\n",
       "    <tr>\n",
       "      <th>TSLA</th>\n",
       "      <td>2.813911</td>\n",
       "      <td>11.132371</td>\n",
       "      <td>0.058476</td>\n",
       "    </tr>\n",
       "    <tr>\n",
       "      <th>AMD</th>\n",
       "      <td>0.327519</td>\n",
       "      <td>2.610079</td>\n",
       "      <td>0.021991</td>\n",
       "    </tr>\n",
       "  </tbody>\n",
       "</table>\n",
       "</div>"
      ],
      "text/plain": [
       "        Return  Sharpe Ratio  Max Drawdown\n",
       "MSFT  0.218582      2.798957      0.012145\n",
       "AAPL  0.181494      1.264138      0.030317\n",
       "FB    1.098673      9.516636      0.012837\n",
       "AMZN  0.556197      5.097701      0.008266\n",
       "INTC -0.116828     -2.589028      0.012948\n",
       "CSCO -0.126238     -3.736189      0.011343\n",
       "VZ    0.244535      2.472722      0.008220\n",
       "IBM  -0.081106     -2.257131      0.013894\n",
       "TSLA  2.813911     11.132371      0.058476\n",
       "AMD   0.327519      2.610079      0.021991"
      ]
     },
     "execution_count": 12,
     "metadata": {},
     "output_type": "execute_result"
    }
   ],
   "source": [
    "#calculating individual stock's KPIs\n",
    "cagr = {}\n",
    "sharpe_ratios = {}\n",
    "max_drawdown = {}\n",
    "for ticker in tickers:\n",
    "    print(\"calculating KPIs for \",ticker)      \n",
    "    cagr[ticker] =  CAGR(ohlc_dict[ticker])\n",
    "    sharpe_ratios[ticker] =  sharpe(ohlc_dict[ticker],0.025)\n",
    "    max_drawdown[ticker] =  max_dd(ohlc_dict[ticker])\n",
    "\n",
    "KPI_df = pd.DataFrame([cagr,sharpe_ratios,max_drawdown],index=[\"Return\",\"Sharpe Ratio\",\"Max Drawdown\"])      \n",
    "KPI_df.T"
   ]
  },
  {
   "cell_type": "code",
   "execution_count": null,
   "metadata": {},
   "outputs": [],
   "source": []
  }
 ],
 "metadata": {
  "kernelspec": {
   "display_name": "py37_default",
   "language": "python",
   "name": "conda-env-py37_default-py"
  },
  "language_info": {
   "codemirror_mode": {
    "name": "ipython",
    "version": 3
   },
   "file_extension": ".py",
   "mimetype": "text/x-python",
   "name": "python",
   "nbconvert_exporter": "python",
   "pygments_lexer": "ipython3",
   "version": "3.7.9"
  }
 },
 "nbformat": 4,
 "nbformat_minor": 4
}

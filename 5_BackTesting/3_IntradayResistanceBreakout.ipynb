{
 "cells": [
  {
   "cell_type": "markdown",
   "metadata": {},
   "source": [
    "# Intraday Resistance Breakout\n",
    "\n",
    "1. Resistance breakout is a technical trading term which means that the price of the stock has breached a presumed resistance level (determined by price chart)\n",
    "1. Choose high volume, high activity stocks for this strategy (pre-market movers, historically high volume stocks, like Tech etc.)\n",
    "1. Define breakout rule - I will be using price breaching 20 period rolling max/min price in conjunction volume breaching rolling max volume - go long short stocks based on the signals.\n",
    "1. Define exit/stop loss signal - I will be using previous price plus/minus 20 period ATR as the rolling stop loss price.\n",
    "1. Backtest the strategy by calculating cumulative returns for each stock."
   ]
  },
  {
   "cell_type": "code",
   "execution_count": 1,
   "metadata": {},
   "outputs": [],
   "source": [
    "import joblib\n",
    "import numpy as np\n",
    "import os\n",
    "import pandas as pd\n",
    "import time\n",
    "from alpha_vantage.timeseries import TimeSeries\n",
    "\n",
    "from ResistanceBreakout import ResistanceBreakout"
   ]
  },
  {
   "cell_type": "code",
   "execution_count": 2,
   "metadata": {},
   "outputs": [],
   "source": [
    "os.chdir('./../3_TechnicalIndicators/')\n",
    "from TechnicalIndicators import TechnicalIndicators"
   ]
  },
  {
   "cell_type": "code",
   "execution_count": 3,
   "metadata": {},
   "outputs": [],
   "source": [
    "os.chdir('./../4_PerformanceMeasurement/')\n",
    "from PerformanceMeasurements import PerformanceMeasurements"
   ]
  },
  {
   "cell_type": "code",
   "execution_count": 4,
   "metadata": {},
   "outputs": [],
   "source": [
    "os.chdir('./../')\n",
    "from Resources.APIKeys import APIKeys"
   ]
  },
  {
   "cell_type": "code",
   "execution_count": 5,
   "metadata": {},
   "outputs": [],
   "source": [
    "ohlc_intraday = {}\n",
    "api_call_count = 1\n",
    "ts = TimeSeries(key=APIKeys.alpha_vantage, output_format='pandas')\n",
    "start_time = time.time()\n",
    "tickers = ['MSFT','AAPL','FB','AMZN','INTC', 'CSCO','VZ','IBM','TSLA','AMD']\n",
    "# tickers = ['MSFT']"
   ]
  },
  {
   "cell_type": "code",
   "execution_count": 6,
   "metadata": {},
   "outputs": [],
   "source": [
    "try:\n",
    "    ohlc_intraday = joblib.load('del_ohlc_intraday.joblib')\n",
    "except:\n",
    "    for ticker in tickers:\n",
    "        data = ts.get_intraday(symbol=ticker, interval='5min', outputsize='full')[0]\n",
    "        api_call_count += 1\n",
    "        data.columns = ['Open', 'High', 'Low', 'Close', 'Volume']\n",
    "        data = data[::-1]\n",
    "        data = data.between_time('09:35', '16:00') # Some priviledged folks are allowed to trade outside trading hours\n",
    "        ohlc_intraday[ticker] = data\n",
    "        if api_call_count == 5:\n",
    "            api_call_count = 1\n",
    "            time.sleep(60 - ((time.time() - start_time) % 60.0))\n",
    "    joblib.dump(ohlc_intraday, 'del_ohlc_intraday.joblib')\n",
    "tickers = ohlc_intraday.keys()"
   ]
  },
  {
   "cell_type": "code",
   "execution_count": 7,
   "metadata": {},
   "outputs": [],
   "source": [
    "for ticker in tickers:\n",
    "    ohlc = ohlc_intraday[ticker]\n",
    "    TechnicalIndicators.add_atr(ohlc, 20, 'Close')\n",
    "    ohlc['roll_max_cp'] = ohlc['High'].rolling(20).max()\n",
    "    ohlc['roll_min_cp'] = ohlc['Low'].rolling(20).min()\n",
    "    ohlc['roll_max_vol'] = ohlc['Volume'].rolling(20).max()\n",
    "    ohlc.dropna(inplace=True)"
   ]
  },
  {
   "cell_type": "code",
   "execution_count": 8,
   "metadata": {},
   "outputs": [],
   "source": [
    "ResistanceBreakout.calculate_returns(ohlc_intraday)"
   ]
  },
  {
   "cell_type": "code",
   "execution_count": 9,
   "metadata": {},
   "outputs": [
    {
     "name": "stdout",
     "output_type": "stream",
     "text": [
      "0.3703326424132971\n",
      "6.998925134207615\n",
      "0.009005609187713464\n"
     ]
    }
   ],
   "source": [
    "strategy_df = pd.DataFrame()\n",
    "for ticker in tickers:\n",
    "    strategy_df[ticker] = ohlc_intraday[ticker]['ret']\n",
    "strategy_df['ret'] = strategy_df.mean(axis = 1)\n",
    "print(PerformanceMeasurements.get_cagr_for_returns(strategy_df['ret'].values, 252*78))\n",
    "print(PerformanceMeasurements.get_sharpe_ratio_for_returns(strategy_df['ret'].values, 252*78, 0.025))\n",
    "print(PerformanceMeasurements.get_max_drawdown_for_returns(strategy_df['ret'].values))"
   ]
  },
  {
   "cell_type": "code",
   "execution_count": 10,
   "metadata": {},
   "outputs": [
    {
     "data": {
      "image/png": "[encoded data removed]",
      "text/plain": [
       "<Figure size 432x288 with 1 Axes>"
      ]
     },
     "metadata": {
      "needs_background": "light"
     },
     "output_type": "display_data"
    }
   ],
   "source": [
    "(1+strategy_df['ret']).cumprod().plot();"
   ]
  },
  {
   "cell_type": "code",
   "execution_count": 11,
   "metadata": {},
   "outputs": [],
   "source": [
    "cagr = {}\n",
    "sharpe_ratios = {}\n",
    "max_drawdowns = {}\n",
    "for ticker in tickers:\n",
    "    ohlc = ohlc_intraday[ticker]\n",
    "    cagr[ticker] = PerformanceMeasurements.get_cagr_for_returns(ohlc['ret'].values, 252*78)\n",
    "    sharpe_ratios[ticker] = PerformanceMeasurements.get_sharpe_ratio_for_returns(ohlc['ret'].values, 252*78, 0.025)\n",
    "    max_drawdowns[ticker] = PerformanceMeasurements.get_max_drawdown_for_returns(ohlc['ret'].values)"
   ]
  },
  {
   "cell_type": "code",
   "execution_count": 12,
   "metadata": {},
   "outputs": [
    {
     "data": {
      "text/html": [
       "<div>\n",
       "<style scoped>\n",
       "    .dataframe tbody tr th:only-of-type {\n",
       "        vertical-align: middle;\n",
       "    }\n",
       "\n",
       "    .dataframe tbody tr th {\n",
       "        vertical-align: top;\n",
       "    }\n",
       "\n",
       "    .dataframe thead th {\n",
       "        text-align: right;\n",
       "    }\n",
       "</style>\n",
       "<table border=\"1\" class=\"dataframe\">\n",
       "  <thead>\n",
       "    <tr style=\"text-align: right;\">\n",
       "      <th></th>\n",
       "      <th>Return</th>\n",
       "      <th>Sharpe Ratio</th>\n",
       "      <th>Max Drawdowns</th>\n",
       "    </tr>\n",
       "  </thead>\n",
       "  <tbody>\n",
       "    <tr>\n",
       "      <th>MSFT</th>\n",
       "      <td>0.223477</td>\n",
       "      <td>2.826528</td>\n",
       "      <td>0.011504</td>\n",
       "    </tr>\n",
       "    <tr>\n",
       "      <th>AAPL</th>\n",
       "      <td>0.172047</td>\n",
       "      <td>1.168741</td>\n",
       "      <td>0.030317</td>\n",
       "    </tr>\n",
       "    <tr>\n",
       "      <th>FB</th>\n",
       "      <td>1.153202</td>\n",
       "      <td>9.833110</td>\n",
       "      <td>0.012837</td>\n",
       "    </tr>\n",
       "    <tr>\n",
       "      <th>AMZN</th>\n",
       "      <td>0.528756</td>\n",
       "      <td>4.759578</td>\n",
       "      <td>0.008266</td>\n",
       "    </tr>\n",
       "    <tr>\n",
       "      <th>INTC</th>\n",
       "      <td>-0.121349</td>\n",
       "      <td>-2.618939</td>\n",
       "      <td>0.012948</td>\n",
       "    </tr>\n",
       "    <tr>\n",
       "      <th>CSCO</th>\n",
       "      <td>-0.131095</td>\n",
       "      <td>-3.780260</td>\n",
       "      <td>0.011343</td>\n",
       "    </tr>\n",
       "    <tr>\n",
       "      <th>VZ</th>\n",
       "      <td>0.304588</td>\n",
       "      <td>3.106920</td>\n",
       "      <td>0.008220</td>\n",
       "    </tr>\n",
       "    <tr>\n",
       "      <th>IBM</th>\n",
       "      <td>-0.100484</td>\n",
       "      <td>-2.664516</td>\n",
       "      <td>0.013026</td>\n",
       "    </tr>\n",
       "    <tr>\n",
       "      <th>TSLA</th>\n",
       "      <td>2.971985</td>\n",
       "      <td>11.601335</td>\n",
       "      <td>0.058476</td>\n",
       "    </tr>\n",
       "    <tr>\n",
       "      <th>AMD</th>\n",
       "      <td>0.336074</td>\n",
       "      <td>2.643460</td>\n",
       "      <td>0.021991</td>\n",
       "    </tr>\n",
       "  </tbody>\n",
       "</table>\n",
       "</div>"
      ],
      "text/plain": [
       "        Return  Sharpe Ratio  Max Drawdowns\n",
       "MSFT  0.223477      2.826528       0.011504\n",
       "AAPL  0.172047      1.168741       0.030317\n",
       "FB    1.153202      9.833110       0.012837\n",
       "AMZN  0.528756      4.759578       0.008266\n",
       "INTC -0.121349     -2.618939       0.012948\n",
       "CSCO -0.131095     -3.780260       0.011343\n",
       "VZ    0.304588      3.106920       0.008220\n",
       "IBM  -0.100484     -2.664516       0.013026\n",
       "TSLA  2.971985     11.601335       0.058476\n",
       "AMD   0.336074      2.643460       0.021991"
      ]
     },
     "execution_count": 12,
     "metadata": {},
     "output_type": "execute_result"
    }
   ],
   "source": [
    "KPI_df = pd.DataFrame([cagr, sharpe_ratios, max_drawdowns], index=['Return', 'Sharpe Ratio', 'Max Drawdowns'])\n",
    "KPI_df.T"
   ]
  },
  {
   "cell_type": "code",
   "execution_count": null,
   "metadata": {},
   "outputs": [],
   "source": []
  }
 ],
 "metadata": {
  "kernelspec": {
   "display_name": "py37_default",
   "language": "python",
   "name": "conda-env-py37_default-py"
  },
  "language_info": {
   "codemirror_mode": {
    "name": "ipython",
    "version": 3
   },
   "file_extension": ".py",
   "mimetype": "text/x-python",
   "name": "python",
   "nbconvert_exporter": "python",
   "pygments_lexer": "ipython3",
   "version": "3.7.9"
  }
 },
 "nbformat": 4,
 "nbformat_minor": 4
}

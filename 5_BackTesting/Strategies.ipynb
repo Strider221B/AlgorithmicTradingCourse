{
 "cells": [
  {
   "cell_type": "code",
   "execution_count": 14,
   "metadata": {},
   "outputs": [
    {
     "name": "stdout",
     "output_type": "stream",
     "text": [
      "Overwriting PortfolioRebalancing.py\n"
     ]
    }
   ],
   "source": [
    "%%writefile 'PortfolioRebalancing.py'\n",
    "import numpy as np\n",
    "import pandas as pd\n",
    "from typing import Dict, List\n",
    "\n",
    "class PortfolioRebalancing:\n",
    "    \n",
    "    @classmethod\n",
    "    def get_monthly_return(cls, ohlc: Dict[str, pd.DataFrame]) -> pd.DataFrame:\n",
    "        return_df = pd.DataFrame()\n",
    "        for ticker in ohlc:\n",
    "            monthly_return = ohlc[ticker]['Adj Close'].pct_change().values\n",
    "            return_df[ticker] = monthly_return\n",
    "        return_df.index = ohlc[return_df.columns[0]].index\n",
    "        return return_df\n",
    "    \n",
    "    @classmethod\n",
    "    def cumulative_portfolio_returns(cls,\n",
    "                                     df: pd.DataFrame,\n",
    "                                     no_of_stocks_in_portfolio: int,\n",
    "                                     no_of_stocks_to_swap: int) -> (np.ndarray,\n",
    "                                                                    List[List[str]]):\n",
    "        portfolio = []\n",
    "        monthly_returns = [0]\n",
    "        portfolio_history = []\n",
    "        for i in range(len(df)):\n",
    "            if len(portfolio) > 0:\n",
    "                monthly_returns.append(df[portfolio].iloc[i, :].mean())\n",
    "                bad_stocks = df[portfolio].iloc[i, :].sort_values(ascending=True)[:no_of_stocks_to_swap].index.values\n",
    "                portfolio = [t for t in portfolio if t not in bad_stocks]\n",
    "            fill = no_of_stocks_in_portfolio - len(portfolio)\n",
    "            new_picks = df.iloc[i, :].sort_values(ascending=False)[:fill].index.values\n",
    "            portfolio.extend(new_picks)\n",
    "            portfolio_history.append(portfolio)\n",
    "        monthly_returns = np.array(monthly_returns)\n",
    "        return monthly_returns, portfolio_history"
   ]
  },
  {
   "cell_type": "code",
   "execution_count": null,
   "metadata": {},
   "outputs": [],
   "source": []
  }
 ],
 "metadata": {
  "kernelspec": {
   "display_name": "py37_default",
   "language": "python",
   "name": "conda-env-py37_default-py"
  },
  "language_info": {
   "codemirror_mode": {
    "name": "ipython",
    "version": 3
   },
   "file_extension": ".py",
   "mimetype": "text/x-python",
   "name": "python",
   "nbconvert_exporter": "python",
   "pygments_lexer": "ipython3",
   "version": "3.7.9"
  }
 },
 "nbformat": 4,
 "nbformat_minor": 4
}

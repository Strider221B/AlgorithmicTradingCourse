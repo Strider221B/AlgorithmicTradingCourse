{
 "cells": [
  {
   "cell_type": "code",
   "execution_count": 14,
   "metadata": {},
   "outputs": [
    {
     "name": "stdout",
     "output_type": "stream",
     "text": [
      "Overwriting PortfolioRebalancing.py\n"
     ]
    }
   ],
   "source": [
    "%%writefile 'PortfolioRebalancing.py'\n",
    "import numpy as np\n",
    "import pandas as pd\n",
    "from typing import Dict, List\n",
    "\n",
    "class PortfolioRebalancing:\n",
    "    \n",
    "    @classmethod\n",
    "    def get_monthly_return(cls, ohlc: Dict[str, pd.DataFrame]) -> pd.DataFrame:\n",
    "        return_df = pd.DataFrame()\n",
    "        for ticker in ohlc:\n",
    "            monthly_return = ohlc[ticker]['Adj Close'].pct_change().values\n",
    "            return_df[ticker] = monthly_return\n",
    "        return_df.index = ohlc[return_df.columns[0]].index\n",
    "        return return_df\n",
    "    \n",
    "    @classmethod\n",
    "    def cumulative_portfolio_returns(cls,\n",
    "                                     df: pd.DataFrame,\n",
    "                                     no_of_stocks_in_portfolio: int,\n",
    "                                     no_of_stocks_to_swap: int) -> (np.ndarray,\n",
    "                                                                    List[List[str]]):\n",
    "        portfolio = []\n",
    "        monthly_returns = [0]\n",
    "        portfolio_history = []\n",
    "        for i in range(len(df)):\n",
    "            if len(portfolio) > 0:\n",
    "                monthly_returns.append(df[portfolio].iloc[i, :].mean())\n",
    "                bad_stocks = df[portfolio].iloc[i, :].sort_values(ascending=True)[:no_of_stocks_to_swap].index.values\n",
    "                portfolio = [t for t in portfolio if t not in bad_stocks]\n",
    "            fill = no_of_stocks_in_portfolio - len(portfolio)\n",
    "            new_picks = df.iloc[i, :].sort_values(ascending=False)[:fill].index.values\n",
    "            portfolio.extend(new_picks)\n",
    "            portfolio_history.append(portfolio)\n",
    "        monthly_returns = np.array(monthly_returns)\n",
    "        return monthly_returns, portfolio_history"
   ]
  },
  {
   "cell_type": "code",
   "execution_count": 5,
   "metadata": {},
   "outputs": [
    {
     "name": "stdout",
     "output_type": "stream",
     "text": [
      "Overwriting ResistanceBreakout.py\n"
     ]
    }
   ],
   "source": [
    "%%writefile ResistanceBreakout.py\n",
    "import numpy as np\n",
    "import pandas as pd\n",
    "from typing import Dict, List\n",
    "\n",
    "class ResistanceBreakout:\n",
    "    \n",
    "    @classmethod\n",
    "    def calculate_returns(cls,\n",
    "                          ohlc_dict: Dict[str, pd.DataFrame]):\n",
    "        tickers_signal: Dict[str, str] = {}\n",
    "        tickers_return: Dict[str, List[float]] = {}\n",
    "        for ticker in ohlc_dict:\n",
    "            tickers_signal[ticker] = ''\n",
    "            tickers_return[ticker] = [0]\n",
    "        for ticker in ohlc_dict:\n",
    "            ohlc = ohlc_dict[ticker]\n",
    "            for i in range(1, len(ohlc)):\n",
    "                vol_greater_than_threshold = ohlc['Volume'][i] > 1.5 * ohlc['roll_max_vol'][i-1]\n",
    "                low_less_than_roll_min_cp = ohlc['Low'][i] <= ohlc['roll_min_cp'][i]\n",
    "                high_greater_than_roll_max_cp = ohlc['High'][i] >= ohlc['roll_max_cp'][i]\n",
    "                if tickers_signal[ticker] == '':\n",
    "                    tickers_return[ticker].append(0)\n",
    "                    if vol_greater_than_threshold:\n",
    "                        if high_greater_than_roll_max_cp:\n",
    "                            tickers_signal[ticker] = 'buy'\n",
    "                        elif low_less_than_roll_min_cp:\n",
    "                            tickers_signal[ticker] = 'sell'\n",
    "                elif tickers_signal[ticker] == 'buy':\n",
    "                    exit_price = (ohlc['Close'][i-1] - ohlc['ATR'][i-1])\n",
    "                    if ohlc['Low'][i] < exit_price:\n",
    "                        tickers_signal[ticker] = ''\n",
    "                        tickers_return[ticker].append((exit_price / ohlc['Close'][i-1])-1)\n",
    "                    else:\n",
    "                        tickers_return[ticker].append((ohlc['Close'][i]/ohlc['Close'][i-1])-1)\n",
    "                        if low_less_than_roll_min_cp and vol_greater_than_threshold:\n",
    "                            tickers_signal[ticker] = 'sell'\n",
    "                else:\n",
    "                    exit_price = ohlc['Close'][i-1] + ohlc['ATR'][i-1]\n",
    "                    if ohlc['High'][i] > exit_price:\n",
    "                        tickers_signal[ticker] = ''\n",
    "                        tickers_return[ticker].append((ohlc['Close'][i-1]/exit_price) - 1)\n",
    "                    else:\n",
    "                        tickers_return[ticker].append((ohlc['Close'][i-1] / ohlc['Close'][i]) - 1)\n",
    "                        if high_greater_than_roll_max_cp and vol_greater_than_threshold:\n",
    "                            tickers_signal[ticker] = 'buy'\n",
    "            ohlc['ret'] = np.array(tickers_return[ticker])"
   ]
  },
  {
   "cell_type": "code",
   "execution_count": null,
   "metadata": {},
   "outputs": [],
   "source": []
  }
 ],
 "metadata": {
  "kernelspec": {
   "display_name": "py37_default",
   "language": "python",
   "name": "conda-env-py37_default-py"
  },
  "language_info": {
   "codemirror_mode": {
    "name": "ipython",
    "version": 3
   },
   "file_extension": ".py",
   "mimetype": "text/x-python",
   "name": "python",
   "nbconvert_exporter": "python",
   "pygments_lexer": "ipython3",
   "version": "3.7.9"
  }
 },
 "nbformat": 4,
 "nbformat_minor": 4
}

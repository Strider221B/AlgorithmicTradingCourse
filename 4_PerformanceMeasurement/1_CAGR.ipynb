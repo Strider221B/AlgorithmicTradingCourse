{
 "cells": [
  {
   "cell_type": "markdown",
   "metadata": {},
   "source": [
    "# CAGR: Compounded Annual Growth Rate\n",
    "\n",
    "1. It is the annual rate of return realized by an asset/portfolio to reach its current market value from its initial value.\n",
    "1. CAGR calculaation assumes profits are continuously reinvested\n",
    "    1. CAGR = (End Value / Beginning Value)<sup>1/years</sup> - 1\n",
    "1. Provides ease of comparison between different trading strategies\n",
    "1. Does not reflect investment risk and therefore should always be used in conjunction with a volatility measure."
   ]
  },
  {
   "cell_type": "code",
   "execution_count": 1,
   "metadata": {},
   "outputs": [],
   "source": [
    "import datetime as dt\n",
    "import numpy as np\n",
    "import yfinance as yf\n",
    "\n",
    "import PMCourse\n",
    "from PerformanceMeasurements import PerformanceMeasurements"
   ]
  },
  {
   "cell_type": "code",
   "execution_count": 2,
   "metadata": {},
   "outputs": [
    {
     "name": "stdout",
     "output_type": "stream",
     "text": [
      "[*********************100%***********************]  1 of 1 completed\n"
     ]
    }
   ],
   "source": [
    "ticker = \"^GSPC\"\n",
    "ochlv = yf.download(ticker,dt.date.today()-dt.timedelta(1825),dt.datetime.today())"
   ]
  },
  {
   "cell_type": "code",
   "execution_count": 3,
   "metadata": {},
   "outputs": [
    {
     "data": {
      "text/plain": [
       "0.14319985099248833"
      ]
     },
     "execution_count": 3,
     "metadata": {},
     "output_type": "execute_result"
    }
   ],
   "source": [
    "PerformanceMeasurements.get_cagr_for(ochlv)"
   ]
  },
  {
   "cell_type": "code",
   "execution_count": 4,
   "metadata": {},
   "outputs": [
    {
     "data": {
      "text/plain": [
       "0.14319985099248833"
      ]
     },
     "execution_count": 4,
     "metadata": {},
     "output_type": "execute_result"
    }
   ],
   "source": [
    "PMCourse.CAGR(ochlv)"
   ]
  },
  {
   "cell_type": "code",
   "execution_count": null,
   "metadata": {},
   "outputs": [],
   "source": []
  }
 ],
 "metadata": {
  "kernelspec": {
   "display_name": "py37_default",
   "language": "python",
   "name": "conda-env-py37_default-py"
  },
  "language_info": {
   "codemirror_mode": {
    "name": "ipython",
    "version": 3
   },
   "file_extension": ".py",
   "mimetype": "text/x-python",
   "name": "python",
   "nbconvert_exporter": "python",
   "pygments_lexer": "ipython3",
   "version": "3.7.9"
  }
 },
 "nbformat": 4,
 "nbformat_minor": 4
}

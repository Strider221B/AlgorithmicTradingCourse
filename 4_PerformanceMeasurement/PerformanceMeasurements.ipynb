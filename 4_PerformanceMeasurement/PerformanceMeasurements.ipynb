{
 "cells": [
  {
   "cell_type": "code",
   "execution_count": 4,
   "metadata": {},
   "outputs": [
    {
     "name": "stdout",
     "output_type": "stream",
     "text": [
      "Overwriting PerformanceMeasurements.py\n"
     ]
    }
   ],
   "source": [
    "%%writefile 'PerformanceMeasurements.py'\n",
    "import numpy as np\n",
    "import pandas as pd\n",
    "\n",
    "class PerformanceMeasurements:\n",
    "    \n",
    "    @classmethod\n",
    "    def get_cagr_for(cls, df: pd.DataFrame) -> float:\n",
    "        daily_ret = df['Adj Close'].pct_change().values\n",
    "        daily_ret[0] = 0 # pct_change makes the first value nan which messes up numpy calc, but not pandas calc\n",
    "        cum_return = (1 + daily_ret).cumprod()\n",
    "        no_of_years = len(df) / 252\n",
    "        cagr = ((cum_return[-1])**(1/no_of_years)) - 1\n",
    "        return cagr\n",
    "    \n",
    "    @classmethod\n",
    "    def get_annualized_volatility(cls, df: pd.DataFrame) -> float:\n",
    "        daily_ret = df['Adj Close'].pct_change().values\n",
    "        daily_ret = daily_ret[1:]\n",
    "        volaility  = daily_ret.std() * np.sqrt(252)\n",
    "        return volaility\n",
    "    \n",
    "    @classmethod\n",
    "    def get_sharpe_ratio(cls, df: pd.DataFrame, risk_free_rate: float) -> float:\n",
    "        '''\n",
    "        risk_free_rate: For India it could be the FD rate, for USA it could be the govt bond rate.\n",
    "        '''\n",
    "        sr = (cls.get_cagr_for(df) - risk_free_rate) / cls.get_annualized_volatility(df)\n",
    "        return sr\n",
    "    \n",
    "    @classmethod\n",
    "    def get_sortino_ratio(cls, df: pd.DataFrame, risk_free_rate: float) -> float:\n",
    "        '''\n",
    "        risk_free_rate: For India it could be the FD rate, for USA it could be the govt bond rate.\n",
    "        '''\n",
    "        daily_ret = df['Adj Close'].pct_change().values\n",
    "        neg_returns = np.where(daily_ret < 0, daily_ret, 0)\n",
    "        neg_volatility = neg_returns.std() * 252**0.5\n",
    "        sr = (cls.get_cagr_for(df) - risk_free_rate) / neg_volatility\n",
    "        return sr"
   ]
  },
  {
   "cell_type": "code",
   "execution_count": null,
   "metadata": {},
   "outputs": [],
   "source": []
  }
 ],
 "metadata": {
  "kernelspec": {
   "display_name": "py37_default",
   "language": "python",
   "name": "conda-env-py37_default-py"
  },
  "language_info": {
   "codemirror_mode": {
    "name": "ipython",
    "version": 3
   },
   "file_extension": ".py",
   "mimetype": "text/x-python",
   "name": "python",
   "nbconvert_exporter": "python",
   "pygments_lexer": "ipython3",
   "version": "3.7.9"
  }
 },
 "nbformat": 4,
 "nbformat_minor": 4
}

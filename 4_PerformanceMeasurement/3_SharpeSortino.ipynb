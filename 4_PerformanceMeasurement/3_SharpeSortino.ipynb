{
 "cells": [
  {
   "cell_type": "markdown",
   "metadata": {},
   "source": [
    "# Sharpe Ratio & Sortino Ratio\n",
    "\n",
    "1. Sharpe Ratio\n",
    "    1. It is the average return earned in excess of the risk free rate per unit of volatility.\n",
    "    1. Widely used measure of risk adjusted returns\n",
    "    1. Investors play close attention to this metric when comparing funds\n",
    "    1. Sharpe ratio greater than 1 is considered good, greater than 2 is very good and greater than 3 is excellent.\n",
    "    1. Formula\n",
    "        1. (R<sub>p</sub> - R<sub>f</sub>) / sigma<sub>p</sub>\n",
    "        1. Where:\n",
    "            1. R<sub>p</sub>: Expected Returns\n",
    "            1. R<sub>f</sub>: Risk Free Returns\n",
    "1. Sortino Ratio\n",
    "    1. Sortino ratio is a variation of Sharpe Ratio which takes into account standard deviation of only negative returns.\n",
    "    1. One of the criticism of Sharpe ratio is that it fails to distinguish between upside and downside fluctuation, Sortino makes that distinction and considers only harmful volatility.\n",
    "    1. Formula\n",
    "        1. (R<sub>p</sub> - R<sub>f</sub>) / sigma<sub>p</sub>\n",
    "        1. Where:\n",
    "            1. R<sub>p</sub>: Expected Returns\n",
    "            1. R<sub>f</sub>: Risk Free Returns\n",
    "            1. The standard deviation is from the negative returns"
   ]
  },
  {
   "cell_type": "code",
   "execution_count": 1,
   "metadata": {},
   "outputs": [],
   "source": [
    "import datetime as dt\n",
    "import numpy as np\n",
    "import yfinance as yf\n",
    "\n",
    "import PMCourse\n",
    "from PerformanceMeasurements import PerformanceMeasurements"
   ]
  },
  {
   "cell_type": "code",
   "execution_count": 2,
   "metadata": {},
   "outputs": [
    {
     "name": "stdout",
     "output_type": "stream",
     "text": [
      "[*********************100%***********************]  1 of 1 completed\n"
     ]
    }
   ],
   "source": [
    "ticker = \"^GSPC\"\n",
    "ochlv = yf.download(ticker,dt.date.today()-dt.timedelta(1825),dt.datetime.today())"
   ]
  },
  {
   "cell_type": "code",
   "execution_count": 3,
   "metadata": {},
   "outputs": [
    {
     "data": {
      "text/plain": [
       "0.6345971027931927"
      ]
     },
     "execution_count": 3,
     "metadata": {},
     "output_type": "execute_result"
    }
   ],
   "source": [
    "PerformanceMeasurements.get_sharpe_ratio(ochlv, 0.022) # USA Govt Bond Rate, GSPC: S&P500"
   ]
  },
  {
   "cell_type": "code",
   "execution_count": 4,
   "metadata": {},
   "outputs": [
    {
     "data": {
      "text/plain": [
       "0.6343446273096399"
      ]
     },
     "execution_count": 4,
     "metadata": {},
     "output_type": "execute_result"
    }
   ],
   "source": [
    "PMCourse.sharpe(ochlv, 0.022)"
   ]
  },
  {
   "cell_type": "code",
   "execution_count": 5,
   "metadata": {},
   "outputs": [
    {
     "data": {
      "text/plain": [
       "0.9385402601674037"
      ]
     },
     "execution_count": 5,
     "metadata": {},
     "output_type": "execute_result"
    }
   ],
   "source": [
    "PerformanceMeasurements.get_sortino_ratio(ochlv, 0.022)"
   ]
  },
  {
   "cell_type": "code",
   "execution_count": 7,
   "metadata": {},
   "outputs": [
    {
     "data": {
      "text/plain": [
       "0.938167157286364"
      ]
     },
     "execution_count": 7,
     "metadata": {},
     "output_type": "execute_result"
    }
   ],
   "source": [
    "PMCourse.sortino(ochlv ,0.022)"
   ]
  },
  {
   "cell_type": "code",
   "execution_count": null,
   "metadata": {},
   "outputs": [],
   "source": []
  }
 ],
 "metadata": {
  "kernelspec": {
   "display_name": "py37_default",
   "language": "python",
   "name": "conda-env-py37_default-py"
  },
  "language_info": {
   "codemirror_mode": {
    "name": "ipython",
    "version": 3
   },
   "file_extension": ".py",
   "mimetype": "text/x-python",
   "name": "python",
   "nbconvert_exporter": "python",
   "pygments_lexer": "ipython3",
   "version": "3.7.9"
  }
 },
 "nbformat": 4,
 "nbformat_minor": 4
}

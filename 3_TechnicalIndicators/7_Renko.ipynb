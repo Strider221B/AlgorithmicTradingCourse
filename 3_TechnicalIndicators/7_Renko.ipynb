{
 "cells": [
  {
   "cell_type": "markdown",
   "metadata": {},
   "source": [
    "# Renko Chart\n",
    "\n",
    "1. Renko chart is built using price movement and not price against standardized time intervals - This filters out the noise and lets you visualize the true Trend.\n",
    "1. Price movements (fixed) are represented as bricks stacked at 45<sup>o</sup> to each other. A new brick is added to the chart only when the price moves by a pre determined amount in either direction.\n",
    "1. Renko charts have a time axis but the time scale isn't fixed. Some bricks may take longer to form than others, depending on how long it takes the price to move the required box size.\n",
    "1. Renko charts typically use only the closing price based on the chart time-frame chosen."
   ]
  },
  {
   "cell_type": "code",
   "execution_count": 1,
   "metadata": {},
   "outputs": [],
   "source": [
    "import datetime\n",
    "import matplotlib.pyplot as plt\n",
    "import pandas as pd\n",
    "import yfinance as yf\n",
    "\n",
    "import TECourse\n",
    "from TechnicalIndicators import TechnicalIndicators"
   ]
  },
  {
   "cell_type": "code",
   "execution_count": 2,
   "metadata": {},
   "outputs": [],
   "source": [
    "ticker = 'MSFT'\n",
    "start = datetime.datetime.today() - datetime.timedelta(1200)\n",
    "end = datetime.datetime.today()\n",
    "ohlcv = pd.DataFrame() "
   ]
  },
  {
   "cell_type": "code",
   "execution_count": 3,
   "metadata": {},
   "outputs": [
    {
     "name": "stdout",
     "output_type": "stream",
     "text": [
      "[*********************100%***********************]  1 of 1 completed\n"
     ]
    }
   ],
   "source": [
    "ohlcv = yf.download(ticker, start, end)"
   ]
  },
  {
   "cell_type": "code",
   "execution_count": 4,
   "metadata": {},
   "outputs": [
    {
     "name": "stderr",
     "output_type": "stream",
     "text": [
      "/anaconda/envs/py37_default/lib/python3.7/site-packages/stocktrends/indicators.py:58: FutureWarning: Slicing a positional slice with .loc is not supported, and will raise TypeError in a future version.  Use .loc with labels or .iloc with positions instead.\n",
      "  self.cdf.loc[0, 1:] = [close - brick_size, close, close - brick_size, close]\n"
     ]
    },
    {
     "data": {
      "text/html": [
       "<div>\n",
       "<style scoped>\n",
       "    .dataframe tbody tr th:only-of-type {\n",
       "        vertical-align: middle;\n",
       "    }\n",
       "\n",
       "    .dataframe tbody tr th {\n",
       "        vertical-align: top;\n",
       "    }\n",
       "\n",
       "    .dataframe thead th {\n",
       "        text-align: right;\n",
       "    }\n",
       "</style>\n",
       "<table border=\"1\" class=\"dataframe\">\n",
       "  <thead>\n",
       "    <tr style=\"text-align: right;\">\n",
       "      <th></th>\n",
       "      <th>date</th>\n",
       "      <th>open</th>\n",
       "      <th>high</th>\n",
       "      <th>low</th>\n",
       "      <th>close</th>\n",
       "      <th>uptrend</th>\n",
       "    </tr>\n",
       "  </thead>\n",
       "  <tbody>\n",
       "    <tr>\n",
       "      <th>79</th>\n",
       "      <td>2021-01-22</td>\n",
       "      <td>220.0</td>\n",
       "      <td>225.0</td>\n",
       "      <td>220.0</td>\n",
       "      <td>225.0</td>\n",
       "      <td>True</td>\n",
       "    </tr>\n",
       "    <tr>\n",
       "      <th>80</th>\n",
       "      <td>2021-01-26</td>\n",
       "      <td>225.0</td>\n",
       "      <td>230.0</td>\n",
       "      <td>225.0</td>\n",
       "      <td>230.0</td>\n",
       "      <td>True</td>\n",
       "    </tr>\n",
       "    <tr>\n",
       "      <th>81</th>\n",
       "      <td>2021-01-28</td>\n",
       "      <td>230.0</td>\n",
       "      <td>235.0</td>\n",
       "      <td>230.0</td>\n",
       "      <td>235.0</td>\n",
       "      <td>True</td>\n",
       "    </tr>\n",
       "    <tr>\n",
       "      <th>82</th>\n",
       "      <td>2021-02-03</td>\n",
       "      <td>235.0</td>\n",
       "      <td>240.0</td>\n",
       "      <td>235.0</td>\n",
       "      <td>240.0</td>\n",
       "      <td>True</td>\n",
       "    </tr>\n",
       "    <tr>\n",
       "      <th>83</th>\n",
       "      <td>2021-02-25</td>\n",
       "      <td>235.0</td>\n",
       "      <td>235.0</td>\n",
       "      <td>230.0</td>\n",
       "      <td>230.0</td>\n",
       "      <td>False</td>\n",
       "    </tr>\n",
       "  </tbody>\n",
       "</table>\n",
       "</div>"
      ],
      "text/plain": [
       "         date   open   high    low  close  uptrend\n",
       "79 2021-01-22  220.0  225.0  220.0  225.0     True\n",
       "80 2021-01-26  225.0  230.0  225.0  230.0     True\n",
       "81 2021-01-28  230.0  235.0  230.0  235.0     True\n",
       "82 2021-02-03  235.0  240.0  235.0  240.0     True\n",
       "83 2021-02-25  235.0  235.0  230.0  230.0    False"
      ]
     },
     "execution_count": 4,
     "metadata": {},
     "output_type": "execute_result"
    }
   ],
   "source": [
    "df = ohlcv.copy()\n",
    "renko_df = TechnicalIndicators.get_renko_df(df)\n",
    "renko_df.tail()"
   ]
  },
  {
   "cell_type": "code",
   "execution_count": 5,
   "metadata": {},
   "outputs": [
    {
     "name": "stderr",
     "output_type": "stream",
     "text": [
      "/anaconda/envs/py37_default/lib/python3.7/site-packages/stocktrends/indicators.py:58: FutureWarning: Slicing a positional slice with .loc is not supported, and will raise TypeError in a future version.  Use .loc with labels or .iloc with positions instead.\n",
      "  self.cdf.loc[0, 1:] = [close - brick_size, close, close - brick_size, close]\n"
     ]
    },
    {
     "data": {
      "text/html": [
       "<div>\n",
       "<style scoped>\n",
       "    .dataframe tbody tr th:only-of-type {\n",
       "        vertical-align: middle;\n",
       "    }\n",
       "\n",
       "    .dataframe tbody tr th {\n",
       "        vertical-align: top;\n",
       "    }\n",
       "\n",
       "    .dataframe thead th {\n",
       "        text-align: right;\n",
       "    }\n",
       "</style>\n",
       "<table border=\"1\" class=\"dataframe\">\n",
       "  <thead>\n",
       "    <tr style=\"text-align: right;\">\n",
       "      <th></th>\n",
       "      <th>date</th>\n",
       "      <th>open</th>\n",
       "      <th>high</th>\n",
       "      <th>low</th>\n",
       "      <th>close</th>\n",
       "      <th>uptrend</th>\n",
       "    </tr>\n",
       "  </thead>\n",
       "  <tbody>\n",
       "    <tr>\n",
       "      <th>79</th>\n",
       "      <td>2021-01-22</td>\n",
       "      <td>220.0</td>\n",
       "      <td>225.0</td>\n",
       "      <td>220.0</td>\n",
       "      <td>225.0</td>\n",
       "      <td>True</td>\n",
       "    </tr>\n",
       "    <tr>\n",
       "      <th>80</th>\n",
       "      <td>2021-01-26</td>\n",
       "      <td>225.0</td>\n",
       "      <td>230.0</td>\n",
       "      <td>225.0</td>\n",
       "      <td>230.0</td>\n",
       "      <td>True</td>\n",
       "    </tr>\n",
       "    <tr>\n",
       "      <th>81</th>\n",
       "      <td>2021-01-28</td>\n",
       "      <td>230.0</td>\n",
       "      <td>235.0</td>\n",
       "      <td>230.0</td>\n",
       "      <td>235.0</td>\n",
       "      <td>True</td>\n",
       "    </tr>\n",
       "    <tr>\n",
       "      <th>82</th>\n",
       "      <td>2021-02-03</td>\n",
       "      <td>235.0</td>\n",
       "      <td>240.0</td>\n",
       "      <td>235.0</td>\n",
       "      <td>240.0</td>\n",
       "      <td>True</td>\n",
       "    </tr>\n",
       "    <tr>\n",
       "      <th>83</th>\n",
       "      <td>2021-02-25</td>\n",
       "      <td>235.0</td>\n",
       "      <td>235.0</td>\n",
       "      <td>230.0</td>\n",
       "      <td>230.0</td>\n",
       "      <td>False</td>\n",
       "    </tr>\n",
       "  </tbody>\n",
       "</table>\n",
       "</div>"
      ],
      "text/plain": [
       "         date   open   high    low  close  uptrend\n",
       "79 2021-01-22  220.0  225.0  220.0  225.0     True\n",
       "80 2021-01-26  225.0  230.0  225.0  230.0     True\n",
       "81 2021-01-28  230.0  235.0  230.0  235.0     True\n",
       "82 2021-02-03  235.0  240.0  235.0  240.0     True\n",
       "83 2021-02-25  235.0  235.0  230.0  230.0    False"
      ]
     },
     "execution_count": 5,
     "metadata": {},
     "output_type": "execute_result"
    }
   ],
   "source": [
    "df = ohlcv.copy()\n",
    "renko_df = TECourse.renko_DF(df)\n",
    "renko_df.tail()"
   ]
  },
  {
   "cell_type": "code",
   "execution_count": null,
   "metadata": {},
   "outputs": [],
   "source": []
  }
 ],
 "metadata": {
  "kernelspec": {
   "display_name": "py37_default",
   "language": "python",
   "name": "conda-env-py37_default-py"
  },
  "language_info": {
   "codemirror_mode": {
    "name": "ipython",
    "version": 3
   },
   "file_extension": ".py",
   "mimetype": "text/x-python",
   "name": "python",
   "nbconvert_exporter": "python",
   "pygments_lexer": "ipython3",
   "version": "3.7.9"
  }
 },
 "nbformat": 4,
 "nbformat_minor": 4
}

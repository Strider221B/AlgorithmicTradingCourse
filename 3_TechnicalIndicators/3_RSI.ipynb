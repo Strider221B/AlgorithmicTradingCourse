{
 "cells": [
  {
   "cell_type": "markdown",
   "metadata": {},
   "source": [
    "# RSI - Relative Strength Index\n",
    "\n",
    "1. RSI is a momentum oscillator which measures the speed and change of price movement.\n",
    "1. RSI value oscillates between 0 and 100 with values above 70 indicating that the asset has now reached over bought territory. Values below 30 indicate oversold territory.\n",
    "    1. The value: 70-30 is more applicable for developed markets, for emerging markets like India, it's more 80-20.\n",
    "1. Assets can remain in overbought or oversold territories for long duration.\n",
    "1. Calculation follows a two step method wherein the second step acts as a smoothening technique (similar to calculating exponential MA)\n",
    "1. Steps\n",
    "    1. RSI<sub>Step 1</sub>: 100 - (100 / (1 + (Avg. Gain / Avg. Loss)))\n",
    "    1. RSI<sub>Step 2</sub>: 100 - (100 / (1 + ((Previous Avg Gain * 13 + Current Gain) / (Previous Avg Loss * 13 + Current Loss))))"
   ]
  },
  {
   "cell_type": "code",
   "execution_count": 1,
   "metadata": {},
   "outputs": [],
   "source": [
    "import datetime\n",
    "import matplotlib.pyplot as plt\n",
    "import pandas as pd\n",
    "import yfinance as yf\n",
    "\n",
    "import TECourse\n",
    "from TechnicalIndicators import TechnicalIndicators"
   ]
  },
  {
   "cell_type": "code",
   "execution_count": 2,
   "metadata": {},
   "outputs": [],
   "source": [
    "ticker = 'MSFT'\n",
    "start = datetime.datetime.today() - datetime.timedelta(1200)\n",
    "end = datetime.datetime.today()\n",
    "ohlcv = pd.DataFrame() "
   ]
  },
  {
   "cell_type": "code",
   "execution_count": 3,
   "metadata": {},
   "outputs": [
    {
     "name": "stdout",
     "output_type": "stream",
     "text": [
      "[*********************100%***********************]  1 of 1 completed\n"
     ]
    }
   ],
   "source": [
    "ohlcv = yf.download(ticker, start, end)"
   ]
  },
  {
   "cell_type": "code",
   "execution_count": 4,
   "metadata": {},
   "outputs": [
    {
     "data": {
      "text/html": [
       "<div>\n",
       "<style scoped>\n",
       "    .dataframe tbody tr th:only-of-type {\n",
       "        vertical-align: middle;\n",
       "    }\n",
       "\n",
       "    .dataframe tbody tr th {\n",
       "        vertical-align: top;\n",
       "    }\n",
       "\n",
       "    .dataframe thead th {\n",
       "        text-align: right;\n",
       "    }\n",
       "</style>\n",
       "<table border=\"1\" class=\"dataframe\">\n",
       "  <thead>\n",
       "    <tr style=\"text-align: right;\">\n",
       "      <th></th>\n",
       "      <th>Open</th>\n",
       "      <th>High</th>\n",
       "      <th>Low</th>\n",
       "      <th>Close</th>\n",
       "      <th>Adj Close</th>\n",
       "      <th>Volume</th>\n",
       "      <th>RS</th>\n",
       "      <th>RSI</th>\n",
       "    </tr>\n",
       "    <tr>\n",
       "      <th>Date</th>\n",
       "      <th></th>\n",
       "      <th></th>\n",
       "      <th></th>\n",
       "      <th></th>\n",
       "      <th></th>\n",
       "      <th></th>\n",
       "      <th></th>\n",
       "      <th></th>\n",
       "    </tr>\n",
       "  </thead>\n",
       "  <tbody>\n",
       "    <tr>\n",
       "      <th>2021-03-04</th>\n",
       "      <td>226.740005</td>\n",
       "      <td>232.490005</td>\n",
       "      <td>224.259995</td>\n",
       "      <td>226.729996</td>\n",
       "      <td>226.729996</td>\n",
       "      <td>44584200</td>\n",
       "      <td>0.678691</td>\n",
       "      <td>40.429771</td>\n",
       "    </tr>\n",
       "    <tr>\n",
       "      <th>2021-03-05</th>\n",
       "      <td>229.520004</td>\n",
       "      <td>233.270004</td>\n",
       "      <td>226.460007</td>\n",
       "      <td>231.600006</td>\n",
       "      <td>231.600006</td>\n",
       "      <td>41842100</td>\n",
       "      <td>0.904743</td>\n",
       "      <td>47.499468</td>\n",
       "    </tr>\n",
       "    <tr>\n",
       "      <th>2021-03-08</th>\n",
       "      <td>231.369995</td>\n",
       "      <td>233.369995</td>\n",
       "      <td>227.130005</td>\n",
       "      <td>227.389999</td>\n",
       "      <td>227.389999</td>\n",
       "      <td>35245900</td>\n",
       "      <td>0.747444</td>\n",
       "      <td>42.773567</td>\n",
       "    </tr>\n",
       "    <tr>\n",
       "      <th>2021-03-09</th>\n",
       "      <td>232.880005</td>\n",
       "      <td>235.380005</td>\n",
       "      <td>231.669998</td>\n",
       "      <td>233.779999</td>\n",
       "      <td>233.779999</td>\n",
       "      <td>33034000</td>\n",
       "      <td>1.031630</td>\n",
       "      <td>50.778432</td>\n",
       "    </tr>\n",
       "    <tr>\n",
       "      <th>2021-03-10</th>\n",
       "      <td>237.000000</td>\n",
       "      <td>237.000000</td>\n",
       "      <td>232.039993</td>\n",
       "      <td>232.419998</td>\n",
       "      <td>232.419998</td>\n",
       "      <td>29733000</td>\n",
       "      <td>0.968542</td>\n",
       "      <td>49.200987</td>\n",
       "    </tr>\n",
       "  </tbody>\n",
       "</table>\n",
       "</div>"
      ],
      "text/plain": [
       "                  Open        High         Low       Close   Adj Close  \\\n",
       "Date                                                                     \n",
       "2021-03-04  226.740005  232.490005  224.259995  226.729996  226.729996   \n",
       "2021-03-05  229.520004  233.270004  226.460007  231.600006  231.600006   \n",
       "2021-03-08  231.369995  233.369995  227.130005  227.389999  227.389999   \n",
       "2021-03-09  232.880005  235.380005  231.669998  233.779999  233.779999   \n",
       "2021-03-10  237.000000  237.000000  232.039993  232.419998  232.419998   \n",
       "\n",
       "              Volume        RS        RSI  \n",
       "Date                                       \n",
       "2021-03-04  44584200  0.678691  40.429771  \n",
       "2021-03-05  41842100  0.904743  47.499468  \n",
       "2021-03-08  35245900  0.747444  42.773567  \n",
       "2021-03-09  33034000  1.031630  50.778432  \n",
       "2021-03-10  29733000  0.968542  49.200987  "
      ]
     },
     "execution_count": 4,
     "metadata": {},
     "output_type": "execute_result"
    }
   ],
   "source": [
    "df = ohlcv.copy()\n",
    "TechnicalIndicators.add_rsi(df)\n",
    "df.tail()"
   ]
  },
  {
   "cell_type": "code",
   "execution_count": 5,
   "metadata": {},
   "outputs": [
    {
     "data": {
      "image/png": "[encoded data removed]",
      "text/plain": [
       "<Figure size 720x432 with 2 Axes>"
      ]
     },
     "metadata": {
      "needs_background": "light"
     },
     "output_type": "display_data"
    }
   ],
   "source": [
    "df[['Adj Close', 'RSI']].plot(subplots=True, figsize=(10, 6));"
   ]
  },
  {
   "cell_type": "code",
   "execution_count": 6,
   "metadata": {},
   "outputs": [
    {
     "data": {
      "text/html": [
       "<div>\n",
       "<style scoped>\n",
       "    .dataframe tbody tr th:only-of-type {\n",
       "        vertical-align: middle;\n",
       "    }\n",
       "\n",
       "    .dataframe tbody tr th {\n",
       "        vertical-align: top;\n",
       "    }\n",
       "\n",
       "    .dataframe thead th {\n",
       "        text-align: right;\n",
       "    }\n",
       "</style>\n",
       "<table border=\"1\" class=\"dataframe\">\n",
       "  <thead>\n",
       "    <tr style=\"text-align: right;\">\n",
       "      <th></th>\n",
       "      <th>Open</th>\n",
       "      <th>High</th>\n",
       "      <th>Low</th>\n",
       "      <th>Close</th>\n",
       "      <th>Adj Close</th>\n",
       "      <th>Volume</th>\n",
       "      <th>RSI</th>\n",
       "    </tr>\n",
       "    <tr>\n",
       "      <th>Date</th>\n",
       "      <th></th>\n",
       "      <th></th>\n",
       "      <th></th>\n",
       "      <th></th>\n",
       "      <th></th>\n",
       "      <th></th>\n",
       "      <th></th>\n",
       "    </tr>\n",
       "  </thead>\n",
       "  <tbody>\n",
       "    <tr>\n",
       "      <th>2021-03-04</th>\n",
       "      <td>226.740005</td>\n",
       "      <td>232.490005</td>\n",
       "      <td>224.259995</td>\n",
       "      <td>226.729996</td>\n",
       "      <td>226.729996</td>\n",
       "      <td>44584200</td>\n",
       "      <td>40.429771</td>\n",
       "    </tr>\n",
       "    <tr>\n",
       "      <th>2021-03-05</th>\n",
       "      <td>229.520004</td>\n",
       "      <td>233.270004</td>\n",
       "      <td>226.460007</td>\n",
       "      <td>231.600006</td>\n",
       "      <td>231.600006</td>\n",
       "      <td>41842100</td>\n",
       "      <td>47.499468</td>\n",
       "    </tr>\n",
       "    <tr>\n",
       "      <th>2021-03-08</th>\n",
       "      <td>231.369995</td>\n",
       "      <td>233.369995</td>\n",
       "      <td>227.130005</td>\n",
       "      <td>227.389999</td>\n",
       "      <td>227.389999</td>\n",
       "      <td>35245900</td>\n",
       "      <td>42.773567</td>\n",
       "    </tr>\n",
       "    <tr>\n",
       "      <th>2021-03-09</th>\n",
       "      <td>232.880005</td>\n",
       "      <td>235.380005</td>\n",
       "      <td>231.669998</td>\n",
       "      <td>233.779999</td>\n",
       "      <td>233.779999</td>\n",
       "      <td>33034000</td>\n",
       "      <td>50.778432</td>\n",
       "    </tr>\n",
       "    <tr>\n",
       "      <th>2021-03-10</th>\n",
       "      <td>237.000000</td>\n",
       "      <td>237.000000</td>\n",
       "      <td>232.039993</td>\n",
       "      <td>232.419998</td>\n",
       "      <td>232.419998</td>\n",
       "      <td>29733000</td>\n",
       "      <td>49.200987</td>\n",
       "    </tr>\n",
       "  </tbody>\n",
       "</table>\n",
       "</div>"
      ],
      "text/plain": [
       "                  Open        High         Low       Close   Adj Close  \\\n",
       "Date                                                                     \n",
       "2021-03-04  226.740005  232.490005  224.259995  226.729996  226.729996   \n",
       "2021-03-05  229.520004  233.270004  226.460007  231.600006  231.600006   \n",
       "2021-03-08  231.369995  233.369995  227.130005  227.389999  227.389999   \n",
       "2021-03-09  232.880005  235.380005  231.669998  233.779999  233.779999   \n",
       "2021-03-10  237.000000  237.000000  232.039993  232.419998  232.419998   \n",
       "\n",
       "              Volume        RSI  \n",
       "Date                             \n",
       "2021-03-04  44584200  40.429771  \n",
       "2021-03-05  41842100  47.499468  \n",
       "2021-03-08  35245900  42.773567  \n",
       "2021-03-09  33034000  50.778432  \n",
       "2021-03-10  29733000  49.200987  "
      ]
     },
     "execution_count": 6,
     "metadata": {},
     "output_type": "execute_result"
    }
   ],
   "source": [
    "df = ohlcv.copy()\n",
    "df['RSI'] = TECourse.RSI(df, 14)\n",
    "df.tail()"
   ]
  },
  {
   "cell_type": "code",
   "execution_count": null,
   "metadata": {},
   "outputs": [],
   "source": []
  }
 ],
 "metadata": {
  "kernelspec": {
   "display_name": "py37_default",
   "language": "python",
   "name": "conda-env-py37_default-py"
  },
  "language_info": {
   "codemirror_mode": {
    "name": "ipython",
    "version": 3
   },
   "file_extension": ".py",
   "mimetype": "text/x-python",
   "name": "python",
   "nbconvert_exporter": "python",
   "pygments_lexer": "ipython3",
   "version": "3.7.9"
  }
 },
 "nbformat": 4,
 "nbformat_minor": 4
}

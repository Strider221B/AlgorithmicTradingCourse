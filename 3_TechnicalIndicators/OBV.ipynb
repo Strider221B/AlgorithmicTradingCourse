{
 "cells": [
  {
   "cell_type": "markdown",
   "metadata": {},
   "source": [
    "# OBV: On Balance Volume\n",
    "\n",
    "1. OBV is a momentum indicator which uses changes in trading volume as an indicator of future asset price moves.\n",
    "1. OBV formulation is based on the theory that volume precedes price movement. A rising OBV reflects positive volume pressure that can lead to higher prices and falling OBV predicts decline in prices.\n",
    "1. Leading market indicator but prone to making false signals. Typically used in conjuction with lagging indicators as MACD\n",
    "1. The calculation of OBV is fairly straight forward and it is simply the cumulative sum of volume traded adjusted for the direction of the corresponding asset price move:\n",
    "    1. OBV = OBV<sub>prev</sub> +\n",
    "        1. volume; if close > close<sub>prev</sub>\n",
    "        1. 0; if close == close<sub>prev</sub>\n",
    "        1. -volume; if close < close<sub>prev</sub>"
   ]
  },
  {
   "cell_type": "code",
   "execution_count": 1,
   "metadata": {},
   "outputs": [],
   "source": [
    "import datetime\n",
    "import matplotlib.pyplot as plt\n",
    "import pandas as pd\n",
    "import yfinance as yf\n",
    "\n",
    "from TechnicalIndicators import TechnicalIndicators"
   ]
  },
  {
   "cell_type": "code",
   "execution_count": 2,
   "metadata": {},
   "outputs": [],
   "source": [
    "ticker = 'MSFT'\n",
    "start = datetime.datetime.today() - datetime.timedelta(1200)\n",
    "end = datetime.datetime.today()\n",
    "ohlcv = pd.DataFrame() "
   ]
  },
  {
   "cell_type": "code",
   "execution_count": 3,
   "metadata": {},
   "outputs": [
    {
     "name": "stdout",
     "output_type": "stream",
     "text": [
      "[*********************100%***********************]  1 of 1 completed\n"
     ]
    }
   ],
   "source": [
    "ohlcv = yf.download(ticker, start, end)"
   ]
  },
  {
   "cell_type": "code",
   "execution_count": 4,
   "metadata": {},
   "outputs": [
    {
     "name": "stderr",
     "output_type": "stream",
     "text": [
      "/home/somesh/notebooks/Git/AlgorithmicTradingCourse/3_TechnicalIndicators/TechnicalIndicators.py:112: SettingWithCopyWarning: \n",
      "A value is trying to be set on a copy of a slice from a DataFrame\n",
      "\n",
      "See the caveats in the documentation: https://pandas.pydata.org/pandas-docs/stable/user_guide/indexing.html#returning-a-view-versus-a-copy\n",
      "  df['direction'][0] = 0\n"
     ]
    },
    {
     "data": {
      "text/html": [
       "<div>\n",
       "<style scoped>\n",
       "    .dataframe tbody tr th:only-of-type {\n",
       "        vertical-align: middle;\n",
       "    }\n",
       "\n",
       "    .dataframe tbody tr th {\n",
       "        vertical-align: top;\n",
       "    }\n",
       "\n",
       "    .dataframe thead th {\n",
       "        text-align: right;\n",
       "    }\n",
       "</style>\n",
       "<table border=\"1\" class=\"dataframe\">\n",
       "  <thead>\n",
       "    <tr style=\"text-align: right;\">\n",
       "      <th></th>\n",
       "      <th>Open</th>\n",
       "      <th>High</th>\n",
       "      <th>Low</th>\n",
       "      <th>Close</th>\n",
       "      <th>Adj Close</th>\n",
       "      <th>Volume</th>\n",
       "      <th>obv</th>\n",
       "    </tr>\n",
       "    <tr>\n",
       "      <th>Date</th>\n",
       "      <th></th>\n",
       "      <th></th>\n",
       "      <th></th>\n",
       "      <th></th>\n",
       "      <th></th>\n",
       "      <th></th>\n",
       "      <th></th>\n",
       "    </tr>\n",
       "  </thead>\n",
       "  <tbody>\n",
       "    <tr>\n",
       "      <th>2021-03-04</th>\n",
       "      <td>226.740005</td>\n",
       "      <td>232.490005</td>\n",
       "      <td>224.259995</td>\n",
       "      <td>226.729996</td>\n",
       "      <td>226.729996</td>\n",
       "      <td>44584200</td>\n",
       "      <td>2222247800</td>\n",
       "    </tr>\n",
       "    <tr>\n",
       "      <th>2021-03-05</th>\n",
       "      <td>229.520004</td>\n",
       "      <td>233.270004</td>\n",
       "      <td>226.460007</td>\n",
       "      <td>231.600006</td>\n",
       "      <td>231.600006</td>\n",
       "      <td>41842100</td>\n",
       "      <td>2264089900</td>\n",
       "    </tr>\n",
       "    <tr>\n",
       "      <th>2021-03-08</th>\n",
       "      <td>231.369995</td>\n",
       "      <td>233.369995</td>\n",
       "      <td>227.130005</td>\n",
       "      <td>227.389999</td>\n",
       "      <td>227.389999</td>\n",
       "      <td>35245900</td>\n",
       "      <td>2228844000</td>\n",
       "    </tr>\n",
       "    <tr>\n",
       "      <th>2021-03-09</th>\n",
       "      <td>232.880005</td>\n",
       "      <td>235.380005</td>\n",
       "      <td>231.669998</td>\n",
       "      <td>233.779999</td>\n",
       "      <td>233.779999</td>\n",
       "      <td>33034000</td>\n",
       "      <td>2261878000</td>\n",
       "    </tr>\n",
       "    <tr>\n",
       "      <th>2021-03-10</th>\n",
       "      <td>237.000000</td>\n",
       "      <td>237.000000</td>\n",
       "      <td>232.039993</td>\n",
       "      <td>232.419998</td>\n",
       "      <td>232.419998</td>\n",
       "      <td>29733000</td>\n",
       "      <td>2232145000</td>\n",
       "    </tr>\n",
       "  </tbody>\n",
       "</table>\n",
       "</div>"
      ],
      "text/plain": [
       "                  Open        High         Low       Close   Adj Close  \\\n",
       "Date                                                                     \n",
       "2021-03-04  226.740005  232.490005  224.259995  226.729996  226.729996   \n",
       "2021-03-05  229.520004  233.270004  226.460007  231.600006  231.600006   \n",
       "2021-03-08  231.369995  233.369995  227.130005  227.389999  227.389999   \n",
       "2021-03-09  232.880005  235.380005  231.669998  233.779999  233.779999   \n",
       "2021-03-10  237.000000  237.000000  232.039993  232.419998  232.419998   \n",
       "\n",
       "              Volume         obv  \n",
       "Date                              \n",
       "2021-03-04  44584200  2222247800  \n",
       "2021-03-05  41842100  2264089900  \n",
       "2021-03-08  35245900  2228844000  \n",
       "2021-03-09  33034000  2261878000  \n",
       "2021-03-10  29733000  2232145000  "
      ]
     },
     "execution_count": 4,
     "metadata": {},
     "output_type": "execute_result"
    }
   ],
   "source": [
    "df = ohlcv.copy()\n",
    "TechnicalIndicators.add_obv(df)\n",
    "df.tail()"
   ]
  },
  {
   "cell_type": "code",
   "execution_count": null,
   "metadata": {},
   "outputs": [],
   "source": []
  }
 ],
 "metadata": {
  "kernelspec": {
   "display_name": "py37_default",
   "language": "python",
   "name": "conda-env-py37_default-py"
  },
  "language_info": {
   "codemirror_mode": {
    "name": "ipython",
    "version": 3
   },
   "file_extension": ".py",
   "mimetype": "text/x-python",
   "name": "python",
   "nbconvert_exporter": "python",
   "pygments_lexer": "ipython3",
   "version": "3.7.9"
  }
 },
 "nbformat": 4,
 "nbformat_minor": 4
}
